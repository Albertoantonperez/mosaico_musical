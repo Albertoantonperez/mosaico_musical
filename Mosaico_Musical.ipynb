{
 "cells": [
  {
   "cell_type": "markdown",
   "metadata": {},
   "source": [
    "# Mosaico Musical\n",
    "\n",
    "### Musical recommender by Alberto Antón as a final project for the Master in Data Science of KSchool\n",
    "\n"
   ]
  },
  {
   "cell_type": "code",
   "execution_count": 44,
   "metadata": {
    "collapsed": true
   },
   "outputs": [],
   "source": [
    "%matplotlib inline\n",
    "import matplotlib.pyplot as plt\n",
    "import numpy as np\n",
    "import pandas as pd\n",
    "import io\n",
    "import os\n",
    "import sys"
   ]
  },
  {
   "cell_type": "code",
   "execution_count": 3,
   "metadata": {
    "collapsed": true
   },
   "outputs": [],
   "source": [
    "# display results to 3 decimal points, not in scientific notation\n",
    "pd.set_option('display.float_format', lambda x: '%.3f' % x)"
   ]
  },
  {
   "cell_type": "markdown",
   "metadata": {},
   "source": [
    "### Load data"
   ]
  },
  {
   "cell_type": "code",
   "execution_count": 4,
   "metadata": {
    "collapsed": true
   },
   "outputs": [],
   "source": [
    "data_root = \"data\""
   ]
  },
  {
   "cell_type": "code",
   "execution_count": 5,
   "metadata": {},
   "outputs": [
    {
     "name": "stdout",
     "output_type": "stream",
     "text": [
      "data\\train_triplets.txt\n"
     ]
    },
    {
     "data": {
      "text/html": [
       "<div>\n",
       "<style scoped>\n",
       "    .dataframe tbody tr th:only-of-type {\n",
       "        vertical-align: middle;\n",
       "    }\n",
       "\n",
       "    .dataframe tbody tr th {\n",
       "        vertical-align: top;\n",
       "    }\n",
       "\n",
       "    .dataframe thead th {\n",
       "        text-align: right;\n",
       "    }\n",
       "</style>\n",
       "<table border=\"1\" class=\"dataframe\">\n",
       "  <thead>\n",
       "    <tr style=\"text-align: right;\">\n",
       "      <th></th>\n",
       "      <th>user_id</th>\n",
       "      <th>song_id</th>\n",
       "      <th>num_plays</th>\n",
       "    </tr>\n",
       "  </thead>\n",
       "  <tbody>\n",
       "    <tr>\n",
       "      <th>0</th>\n",
       "      <td>b80344d063b5ccb3212f76538f3d9e43d87dca9e</td>\n",
       "      <td>SOAKIMP12A8C130995</td>\n",
       "      <td>1</td>\n",
       "    </tr>\n",
       "    <tr>\n",
       "      <th>1</th>\n",
       "      <td>b80344d063b5ccb3212f76538f3d9e43d87dca9e</td>\n",
       "      <td>SOAPDEY12A81C210A9</td>\n",
       "      <td>1</td>\n",
       "    </tr>\n",
       "    <tr>\n",
       "      <th>2</th>\n",
       "      <td>b80344d063b5ccb3212f76538f3d9e43d87dca9e</td>\n",
       "      <td>SOBBMDR12A8C13253B</td>\n",
       "      <td>2</td>\n",
       "    </tr>\n",
       "    <tr>\n",
       "      <th>3</th>\n",
       "      <td>b80344d063b5ccb3212f76538f3d9e43d87dca9e</td>\n",
       "      <td>SOBFNSP12AF72A0E22</td>\n",
       "      <td>1</td>\n",
       "    </tr>\n",
       "    <tr>\n",
       "      <th>4</th>\n",
       "      <td>b80344d063b5ccb3212f76538f3d9e43d87dca9e</td>\n",
       "      <td>SOBFOVM12A58A7D494</td>\n",
       "      <td>1</td>\n",
       "    </tr>\n",
       "  </tbody>\n",
       "</table>\n",
       "</div>"
      ],
      "text/plain": [
       "                                    user_id             song_id  num_plays\n",
       "0  b80344d063b5ccb3212f76538f3d9e43d87dca9e  SOAKIMP12A8C130995          1\n",
       "1  b80344d063b5ccb3212f76538f3d9e43d87dca9e  SOAPDEY12A81C210A9          1\n",
       "2  b80344d063b5ccb3212f76538f3d9e43d87dca9e  SOBBMDR12A8C13253B          2\n",
       "3  b80344d063b5ccb3212f76538f3d9e43d87dca9e  SOBFNSP12AF72A0E22          1\n",
       "4  b80344d063b5ccb3212f76538f3d9e43d87dca9e  SOBFOVM12A58A7D494          1"
      ]
     },
     "execution_count": 5,
     "metadata": {},
     "output_type": "execute_result"
    }
   ],
   "source": [
    "columns = ['user_id', 'song_id', 'num_plays']\n",
    "datafile = os.path.join(data_root, \"train_triplets.txt\")\n",
    "print(datafile)\n",
    "data = pd.read_csv(datafile, \n",
    "                   sep='\\t', \n",
    "                   header = None,\n",
    "                   names = columns)\n",
    "data.head()"
   ]
  },
  {
   "cell_type": "code",
   "execution_count": 6,
   "metadata": {},
   "outputs": [
    {
     "data": {
      "text/html": [
       "<div>\n",
       "<style scoped>\n",
       "    .dataframe tbody tr th:only-of-type {\n",
       "        vertical-align: middle;\n",
       "    }\n",
       "\n",
       "    .dataframe tbody tr th {\n",
       "        vertical-align: top;\n",
       "    }\n",
       "\n",
       "    .dataframe thead th {\n",
       "        text-align: right;\n",
       "    }\n",
       "</style>\n",
       "<table border=\"1\" class=\"dataframe\">\n",
       "  <thead>\n",
       "    <tr style=\"text-align: right;\">\n",
       "      <th></th>\n",
       "      <th>num_plays</th>\n",
       "    </tr>\n",
       "  </thead>\n",
       "  <tbody>\n",
       "    <tr>\n",
       "      <th>count</th>\n",
       "      <td>48373586.000</td>\n",
       "    </tr>\n",
       "    <tr>\n",
       "      <th>mean</th>\n",
       "      <td>2.867</td>\n",
       "    </tr>\n",
       "    <tr>\n",
       "      <th>std</th>\n",
       "      <td>6.438</td>\n",
       "    </tr>\n",
       "    <tr>\n",
       "      <th>min</th>\n",
       "      <td>1.000</td>\n",
       "    </tr>\n",
       "    <tr>\n",
       "      <th>25%</th>\n",
       "      <td>1.000</td>\n",
       "    </tr>\n",
       "    <tr>\n",
       "      <th>50%</th>\n",
       "      <td>1.000</td>\n",
       "    </tr>\n",
       "    <tr>\n",
       "      <th>75%</th>\n",
       "      <td>3.000</td>\n",
       "    </tr>\n",
       "    <tr>\n",
       "      <th>max</th>\n",
       "      <td>9667.000</td>\n",
       "    </tr>\n",
       "  </tbody>\n",
       "</table>\n",
       "</div>"
      ],
      "text/plain": [
       "         num_plays\n",
       "count 48373586.000\n",
       "mean         2.867\n",
       "std          6.438\n",
       "min          1.000\n",
       "25%          1.000\n",
       "50%          1.000\n",
       "75%          3.000\n",
       "max       9667.000"
      ]
     },
     "execution_count": 6,
     "metadata": {},
     "output_type": "execute_result"
    }
   ],
   "source": [
    "data.describe()"
   ]
  },
  {
   "cell_type": "code",
   "execution_count": 7,
   "metadata": {
    "collapsed": true
   },
   "outputs": [],
   "source": [
    "# Read songs dataset"
   ]
  },
  {
   "cell_type": "code",
   "execution_count": 8,
   "metadata": {},
   "outputs": [
    {
     "data": {
      "text/html": [
       "<div>\n",
       "<style scoped>\n",
       "    .dataframe tbody tr th:only-of-type {\n",
       "        vertical-align: middle;\n",
       "    }\n",
       "\n",
       "    .dataframe tbody tr th {\n",
       "        vertical-align: top;\n",
       "    }\n",
       "\n",
       "    .dataframe thead th {\n",
       "        text-align: right;\n",
       "    }\n",
       "</style>\n",
       "<table border=\"1\" class=\"dataframe\">\n",
       "  <thead>\n",
       "    <tr style=\"text-align: right;\">\n",
       "      <th></th>\n",
       "      <th>song_id</th>\n",
       "      <th>artist</th>\n",
       "      <th>title</th>\n",
       "    </tr>\n",
       "  </thead>\n",
       "  <tbody>\n",
       "    <tr>\n",
       "      <th>0</th>\n",
       "      <td>SOQMMHC12AB0180CB8</td>\n",
       "      <td>Faster Pussy cat</td>\n",
       "      <td>Silent Night</td>\n",
       "    </tr>\n",
       "    <tr>\n",
       "      <th>1</th>\n",
       "      <td>SOVFVAK12A8C1350D9</td>\n",
       "      <td>Karkkiautomaatti</td>\n",
       "      <td>Tanssi vaan</td>\n",
       "    </tr>\n",
       "    <tr>\n",
       "      <th>2</th>\n",
       "      <td>SOGTUKN12AB017F4F1</td>\n",
       "      <td>Hudson Mohawke</td>\n",
       "      <td>No One Could Ever</td>\n",
       "    </tr>\n",
       "    <tr>\n",
       "      <th>3</th>\n",
       "      <td>SOBNYVR12A8C13558C</td>\n",
       "      <td>Yerba Brava</td>\n",
       "      <td>Si Vos Querés</td>\n",
       "    </tr>\n",
       "    <tr>\n",
       "      <th>4</th>\n",
       "      <td>SOHSBXH12A8C13B0DF</td>\n",
       "      <td>Der Mystic</td>\n",
       "      <td>Tangle Of Aspens</td>\n",
       "    </tr>\n",
       "  </tbody>\n",
       "</table>\n",
       "</div>"
      ],
      "text/plain": [
       "              song_id            artist              title\n",
       "0  SOQMMHC12AB0180CB8  Faster Pussy cat       Silent Night\n",
       "1  SOVFVAK12A8C1350D9  Karkkiautomaatti        Tanssi vaan\n",
       "2  SOGTUKN12AB017F4F1    Hudson Mohawke  No One Could Ever\n",
       "3  SOBNYVR12A8C13558C       Yerba Brava      Si Vos Querés\n",
       "4  SOHSBXH12A8C13B0DF        Der Mystic   Tangle Of Aspens"
      ]
     },
     "execution_count": 8,
     "metadata": {},
     "output_type": "execute_result"
    }
   ],
   "source": [
    "columns = [\"foo\", \"song_id\", \"artist\", \"title\"]\n",
    "datafile = os.path.join(data_root, \"unique_tracks.txt\")\n",
    "all_songs = pd.read_csv(datafile, \n",
    "                        header = None,\n",
    "                        sep = '<SEP>',\n",
    "                        names = columns,\n",
    "                        usecols = [\"song_id\", \"artist\", \"title\"],\n",
    "                        encoding =  \"utf-8\",\n",
    "                        engine = \"python\")\n",
    "\n",
    "all_songs.head()"
   ]
  },
  {
   "cell_type": "code",
   "execution_count": 9,
   "metadata": {},
   "outputs": [
    {
     "data": {
      "text/html": [
       "<div>\n",
       "<style scoped>\n",
       "    .dataframe tbody tr th:only-of-type {\n",
       "        vertical-align: middle;\n",
       "    }\n",
       "\n",
       "    .dataframe tbody tr th {\n",
       "        vertical-align: top;\n",
       "    }\n",
       "\n",
       "    .dataframe thead th {\n",
       "        text-align: right;\n",
       "    }\n",
       "</style>\n",
       "<table border=\"1\" class=\"dataframe\">\n",
       "  <thead>\n",
       "    <tr style=\"text-align: right;\">\n",
       "      <th></th>\n",
       "      <th>song_id</th>\n",
       "      <th>artist</th>\n",
       "      <th>title</th>\n",
       "    </tr>\n",
       "  </thead>\n",
       "  <tbody>\n",
       "    <tr>\n",
       "      <th>count</th>\n",
       "      <td>1000000</td>\n",
       "      <td>1000000</td>\n",
       "      <td>999985</td>\n",
       "    </tr>\n",
       "    <tr>\n",
       "      <th>unique</th>\n",
       "      <td>999056</td>\n",
       "      <td>72665</td>\n",
       "      <td>702000</td>\n",
       "    </tr>\n",
       "    <tr>\n",
       "      <th>top</th>\n",
       "      <td>SOUYQYY12AF72A000F</td>\n",
       "      <td>Michael Jackson</td>\n",
       "      <td>Intro</td>\n",
       "    </tr>\n",
       "    <tr>\n",
       "      <th>freq</th>\n",
       "      <td>3</td>\n",
       "      <td>194</td>\n",
       "      <td>1511</td>\n",
       "    </tr>\n",
       "  </tbody>\n",
       "</table>\n",
       "</div>"
      ],
      "text/plain": [
       "                   song_id           artist   title\n",
       "count              1000000          1000000  999985\n",
       "unique              999056            72665  702000\n",
       "top     SOUYQYY12AF72A000F  Michael Jackson   Intro\n",
       "freq                     3              194    1511"
      ]
     },
     "execution_count": 9,
     "metadata": {},
     "output_type": "execute_result"
    }
   ],
   "source": [
    "all_songs.describe()"
   ]
  },
  {
   "cell_type": "code",
   "execution_count": 10,
   "metadata": {},
   "outputs": [
    {
     "data": {
      "text/plain": [
       "384546"
      ]
     },
     "execution_count": 10,
     "metadata": {},
     "output_type": "execute_result"
    }
   ],
   "source": [
    "# Number of songs in data\n",
    "data.song_id.unique().shape[0]"
   ]
  },
  {
   "cell_type": "code",
   "execution_count": 12,
   "metadata": {},
   "outputs": [
    {
     "data": {
      "text/plain": [
       "999056"
      ]
     },
     "execution_count": 12,
     "metadata": {},
     "output_type": "execute_result"
    }
   ],
   "source": [
    "# Number of songs in all_songs\n",
    "all_songs.song_id.unique().shape[0]"
   ]
  },
  {
   "cell_type": "code",
   "execution_count": 13,
   "metadata": {},
   "outputs": [],
   "source": [
    "# Let's keep only the songs that are in data\n",
    "unique_songs_tmp = data.song_id.unique()\n",
    "unique_songs_df = pd.DataFrame(unique_songs_tmp, columns = ['song_id'])"
   ]
  },
  {
   "cell_type": "code",
   "execution_count": 14,
   "metadata": {},
   "outputs": [],
   "source": [
    "songs = unique_songs_df.merge(all_songs,\n",
    "                       left_on = \"song_id\",\n",
    "                       right_on = \"song_id\",\n",
    "                       how = \"left\")[[\"song_id\", \"artist\", \"title\"]]"
   ]
  },
  {
   "cell_type": "code",
   "execution_count": 15,
   "metadata": {},
   "outputs": [
    {
     "data": {
      "text/html": [
       "<div>\n",
       "<style scoped>\n",
       "    .dataframe tbody tr th:only-of-type {\n",
       "        vertical-align: middle;\n",
       "    }\n",
       "\n",
       "    .dataframe tbody tr th {\n",
       "        vertical-align: top;\n",
       "    }\n",
       "\n",
       "    .dataframe thead th {\n",
       "        text-align: right;\n",
       "    }\n",
       "</style>\n",
       "<table border=\"1\" class=\"dataframe\">\n",
       "  <thead>\n",
       "    <tr style=\"text-align: right;\">\n",
       "      <th></th>\n",
       "      <th>song_id</th>\n",
       "      <th>artist</th>\n",
       "      <th>title</th>\n",
       "    </tr>\n",
       "  </thead>\n",
       "  <tbody>\n",
       "    <tr>\n",
       "      <th>count</th>\n",
       "      <td>385256</td>\n",
       "      <td>385256</td>\n",
       "      <td>385252</td>\n",
       "    </tr>\n",
       "    <tr>\n",
       "      <th>unique</th>\n",
       "      <td>384546</td>\n",
       "      <td>42062</td>\n",
       "      <td>306785</td>\n",
       "    </tr>\n",
       "    <tr>\n",
       "      <th>top</th>\n",
       "      <td>SOBPAEP12A58A77F49</td>\n",
       "      <td>Beastie Boys</td>\n",
       "      <td>Intro</td>\n",
       "    </tr>\n",
       "    <tr>\n",
       "      <th>freq</th>\n",
       "      <td>3</td>\n",
       "      <td>139</td>\n",
       "      <td>526</td>\n",
       "    </tr>\n",
       "  </tbody>\n",
       "</table>\n",
       "</div>"
      ],
      "text/plain": [
       "                   song_id        artist   title\n",
       "count               385256        385256  385252\n",
       "unique              384546         42062  306785\n",
       "top     SOBPAEP12A58A77F49  Beastie Boys   Intro\n",
       "freq                     3           139     526"
      ]
     },
     "execution_count": 15,
     "metadata": {},
     "output_type": "execute_result"
    }
   ],
   "source": [
    "songs.describe()"
   ]
  },
  {
   "cell_type": "code",
   "execution_count": 16,
   "metadata": {},
   "outputs": [
    {
     "data": {
      "text/html": [
       "<div>\n",
       "<style scoped>\n",
       "    .dataframe tbody tr th:only-of-type {\n",
       "        vertical-align: middle;\n",
       "    }\n",
       "\n",
       "    .dataframe tbody tr th {\n",
       "        vertical-align: top;\n",
       "    }\n",
       "\n",
       "    .dataframe thead th {\n",
       "        text-align: right;\n",
       "    }\n",
       "</style>\n",
       "<table border=\"1\" class=\"dataframe\">\n",
       "  <thead>\n",
       "    <tr style=\"text-align: right;\">\n",
       "      <th></th>\n",
       "      <th>song_id</th>\n",
       "      <th>artist</th>\n",
       "      <th>title</th>\n",
       "    </tr>\n",
       "  </thead>\n",
       "  <tbody>\n",
       "    <tr>\n",
       "      <th>0</th>\n",
       "      <td>SOAKIMP12A8C130995</td>\n",
       "      <td>Jack Johnson</td>\n",
       "      <td>The Cove</td>\n",
       "    </tr>\n",
       "    <tr>\n",
       "      <th>1</th>\n",
       "      <td>SOAPDEY12A81C210A9</td>\n",
       "      <td>Billy Preston</td>\n",
       "      <td>Nothing from Nothing</td>\n",
       "    </tr>\n",
       "    <tr>\n",
       "      <th>2</th>\n",
       "      <td>SOBBMDR12A8C13253B</td>\n",
       "      <td>Paco De Lucia</td>\n",
       "      <td>Entre Dos Aguas</td>\n",
       "    </tr>\n",
       "    <tr>\n",
       "      <th>3</th>\n",
       "      <td>SOBFNSP12AF72A0E22</td>\n",
       "      <td>Josh Rouse</td>\n",
       "      <td>Under Cold Blue Stars</td>\n",
       "    </tr>\n",
       "    <tr>\n",
       "      <th>4</th>\n",
       "      <td>SOBFOVM12A58A7D494</td>\n",
       "      <td>The Dead 60s</td>\n",
       "      <td>Riot Radio (Soundtrack Version)</td>\n",
       "    </tr>\n",
       "  </tbody>\n",
       "</table>\n",
       "</div>"
      ],
      "text/plain": [
       "              song_id         artist                            title\n",
       "0  SOAKIMP12A8C130995   Jack Johnson                         The Cove\n",
       "1  SOAPDEY12A81C210A9  Billy Preston             Nothing from Nothing\n",
       "2  SOBBMDR12A8C13253B  Paco De Lucia                  Entre Dos Aguas\n",
       "3  SOBFNSP12AF72A0E22     Josh Rouse            Under Cold Blue Stars\n",
       "4  SOBFOVM12A58A7D494   The Dead 60s  Riot Radio (Soundtrack Version)"
      ]
     },
     "execution_count": 16,
     "metadata": {},
     "output_type": "execute_result"
    }
   ],
   "source": [
    "songs.head()"
   ]
  },
  {
   "cell_type": "code",
   "execution_count": null,
   "metadata": {
    "collapsed": true
   },
   "outputs": [],
   "source": []
  },
  {
   "cell_type": "code",
   "execution_count": 17,
   "metadata": {},
   "outputs": [],
   "source": [
    "# Songs dataframe count is 385.256, while there are 384.546 unique songs. \n",
    "# The difference are duplicated songs"
   ]
  },
  {
   "cell_type": "code",
   "execution_count": 19,
   "metadata": {},
   "outputs": [
    {
     "data": {
      "text/html": [
       "<div>\n",
       "<style scoped>\n",
       "    .dataframe tbody tr th:only-of-type {\n",
       "        vertical-align: middle;\n",
       "    }\n",
       "\n",
       "    .dataframe tbody tr th {\n",
       "        vertical-align: top;\n",
       "    }\n",
       "\n",
       "    .dataframe thead th {\n",
       "        text-align: right;\n",
       "    }\n",
       "</style>\n",
       "<table border=\"1\" class=\"dataframe\">\n",
       "  <thead>\n",
       "    <tr style=\"text-align: right;\">\n",
       "      <th></th>\n",
       "      <th>song_id</th>\n",
       "      <th>artist</th>\n",
       "      <th>title</th>\n",
       "    </tr>\n",
       "  </thead>\n",
       "  <tbody>\n",
       "    <tr>\n",
       "      <th>9</th>\n",
       "      <td>SOBXHDL12A81C204C0</td>\n",
       "      <td>Kanye West</td>\n",
       "      <td>Stronger</td>\n",
       "    </tr>\n",
       "    <tr>\n",
       "      <th>10</th>\n",
       "      <td>SOBXHDL12A81C204C0</td>\n",
       "      <td>Kanye West</td>\n",
       "      <td>Stronger</td>\n",
       "    </tr>\n",
       "    <tr>\n",
       "      <th>184</th>\n",
       "      <td>SODGVGW12AC9075A8D</td>\n",
       "      <td>Justin Bieber</td>\n",
       "      <td>Somebody To Love</td>\n",
       "    </tr>\n",
       "    <tr>\n",
       "      <th>185</th>\n",
       "      <td>SODGVGW12AC9075A8D</td>\n",
       "      <td>Justin Bieber</td>\n",
       "      <td>Somebody To Love</td>\n",
       "    </tr>\n",
       "    <tr>\n",
       "      <th>191</th>\n",
       "      <td>SOKOXWU12AF72AD1BC</td>\n",
       "      <td>Eminem</td>\n",
       "      <td>The Real Slim Shady</td>\n",
       "    </tr>\n",
       "    <tr>\n",
       "      <th>192</th>\n",
       "      <td>SOKOXWU12AF72AD1BC</td>\n",
       "      <td>Eminem</td>\n",
       "      <td>The Real Slim Shady</td>\n",
       "    </tr>\n",
       "  </tbody>\n",
       "</table>\n",
       "</div>"
      ],
      "text/plain": [
       "                song_id         artist                title\n",
       "9    SOBXHDL12A81C204C0     Kanye West             Stronger\n",
       "10   SOBXHDL12A81C204C0     Kanye West             Stronger\n",
       "184  SODGVGW12AC9075A8D  Justin Bieber     Somebody To Love\n",
       "185  SODGVGW12AC9075A8D  Justin Bieber     Somebody To Love\n",
       "191  SOKOXWU12AF72AD1BC         Eminem  The Real Slim Shady\n",
       "192  SOKOXWU12AF72AD1BC         Eminem  The Real Slim Shady"
      ]
     },
     "execution_count": 19,
     "metadata": {},
     "output_type": "execute_result"
    }
   ],
   "source": [
    "# Let's take a look\n",
    "songs[songs.duplicated(subset=['song_id'], keep=False)].head(6)"
   ]
  },
  {
   "cell_type": "code",
   "execution_count": 20,
   "metadata": {},
   "outputs": [
    {
     "data": {
      "text/html": [
       "<div>\n",
       "<style scoped>\n",
       "    .dataframe tbody tr th:only-of-type {\n",
       "        vertical-align: middle;\n",
       "    }\n",
       "\n",
       "    .dataframe tbody tr th {\n",
       "        vertical-align: top;\n",
       "    }\n",
       "\n",
       "    .dataframe thead th {\n",
       "        text-align: right;\n",
       "    }\n",
       "</style>\n",
       "<table border=\"1\" class=\"dataframe\">\n",
       "  <thead>\n",
       "    <tr style=\"text-align: right;\">\n",
       "      <th></th>\n",
       "      <th>song_id</th>\n",
       "      <th>artist</th>\n",
       "      <th>title</th>\n",
       "    </tr>\n",
       "  </thead>\n",
       "  <tbody>\n",
       "    <tr>\n",
       "      <th>count</th>\n",
       "      <td>384546</td>\n",
       "      <td>384546</td>\n",
       "      <td>384542</td>\n",
       "    </tr>\n",
       "    <tr>\n",
       "      <th>unique</th>\n",
       "      <td>384546</td>\n",
       "      <td>42055</td>\n",
       "      <td>306720</td>\n",
       "    </tr>\n",
       "    <tr>\n",
       "      <th>top</th>\n",
       "      <td>SOSSQIP12AB0186F0D</td>\n",
       "      <td>Beastie Boys</td>\n",
       "      <td>Intro</td>\n",
       "    </tr>\n",
       "    <tr>\n",
       "      <th>freq</th>\n",
       "      <td>1</td>\n",
       "      <td>136</td>\n",
       "      <td>526</td>\n",
       "    </tr>\n",
       "  </tbody>\n",
       "</table>\n",
       "</div>"
      ],
      "text/plain": [
       "                   song_id        artist   title\n",
       "count               384546        384546  384542\n",
       "unique              384546         42055  306720\n",
       "top     SOSSQIP12AB0186F0D  Beastie Boys   Intro\n",
       "freq                     1           136     526"
      ]
     },
     "execution_count": 20,
     "metadata": {},
     "output_type": "execute_result"
    }
   ],
   "source": [
    "# Remove those duplicates\n",
    "songs.drop_duplicates(subset = \"song_id\", inplace = True)\n",
    "songs.describe()"
   ]
  },
  {
   "cell_type": "code",
   "execution_count": 43,
   "metadata": {
    "collapsed": true
   },
   "outputs": [],
   "source": [
    "# Saving songs dataframe\n",
    "songs.to_pickle(\"songs.pkl\")"
   ]
  },
  {
   "cell_type": "code",
   "execution_count": null,
   "metadata": {
    "collapsed": true
   },
   "outputs": [],
   "source": []
  },
  {
   "cell_type": "code",
   "execution_count": null,
   "metadata": {
    "collapsed": true
   },
   "outputs": [],
   "source": []
  },
  {
   "cell_type": "code",
   "execution_count": 21,
   "metadata": {
    "collapsed": true
   },
   "outputs": [],
   "source": [
    "# Now count and unique are the same"
   ]
  },
  {
   "cell_type": "code",
   "execution_count": 46,
   "metadata": {
    "collapsed": true
   },
   "outputs": [],
   "source": [
    "# Remove all_songs from memory\n",
    "all_songs = None"
   ]
  },
  {
   "cell_type": "code",
   "execution_count": 47,
   "metadata": {
    "collapsed": true
   },
   "outputs": [],
   "source": [
    "# Funcion that returns the artist and title of a song_id\n",
    "def which_song(sid):\n",
    "    return songs[songs[\"song_id\"] == sid][[\"artist\", \"title\"]]"
   ]
  },
  {
   "cell_type": "code",
   "execution_count": 48,
   "metadata": {},
   "outputs": [
    {
     "data": {
      "text/html": [
       "<div>\n",
       "<style scoped>\n",
       "    .dataframe tbody tr th:only-of-type {\n",
       "        vertical-align: middle;\n",
       "    }\n",
       "\n",
       "    .dataframe tbody tr th {\n",
       "        vertical-align: top;\n",
       "    }\n",
       "\n",
       "    .dataframe thead th {\n",
       "        text-align: right;\n",
       "    }\n",
       "</style>\n",
       "<table border=\"1\" class=\"dataframe\">\n",
       "  <thead>\n",
       "    <tr style=\"text-align: right;\">\n",
       "      <th></th>\n",
       "      <th>artist</th>\n",
       "      <th>title</th>\n",
       "    </tr>\n",
       "  </thead>\n",
       "  <tbody>\n",
       "    <tr>\n",
       "      <th>26444</th>\n",
       "      <td>Lena Philipsson</td>\n",
       "      <td>006</td>\n",
       "    </tr>\n",
       "  </tbody>\n",
       "</table>\n",
       "</div>"
      ],
      "text/plain": [
       "                artist title\n",
       "26444  Lena Philipsson   006"
      ]
     },
     "execution_count": 48,
     "metadata": {},
     "output_type": "execute_result"
    }
   ],
   "source": [
    "which_song(\"SOSDCFG12AB0184647\")"
   ]
  },
  {
   "cell_type": "markdown",
   "metadata": {},
   "source": [
    "As this dataset is part of a closed competition, there is no test set, so we have to create it from the train set."
   ]
  },
  {
   "cell_type": "markdown",
   "metadata": {},
   "source": [
    "If we want to recommend something to a new user, either we know something about him or we can't but recommend the most popular songs.\n",
    "\n",
    "Let's go for the first option, so we'll present the user random songs until he selects 10 that he likes"
   ]
  },
  {
   "cell_type": "code",
   "execution_count": 49,
   "metadata": {
    "collapsed": true
   },
   "outputs": [],
   "source": [
    "# Let show random artists, then the users selects an artis an we present its songs. The users selects\n",
    "# thos he likes (or none)"
   ]
  },
  {
   "cell_type": "code",
   "execution_count": 50,
   "metadata": {
    "scrolled": true
   },
   "outputs": [
    {
     "data": {
      "text/plain": [
       "160353       Clube Do Balanco\n",
       "110877                Emarosa\n",
       "372427       Conjunto Clasico\n",
       "219499            Prem Joshua\n",
       "305977             Marc Ribot\n",
       "254931     Nick Glennie-Smith\n",
       "123339            Fiona Apple\n",
       "270419                    ZPU\n",
       "78858                   Kinky\n",
       "155660              The Dears\n",
       "33642           The Melodians\n",
       "41224      Magtens Korridorer\n",
       "69090              Elton John\n",
       "64753           Lucila Campos\n",
       "372301                  Mia X\n",
       "75538                Deadsoil\n",
       "237291          Dulce Liquido\n",
       "332277       Long Tall Texans\n",
       "13755     Jean-Yves Thibaudet\n",
       "218444                  Becky\n",
       "Name: artist, dtype: object"
      ]
     },
     "execution_count": 50,
     "metadata": {},
     "output_type": "execute_result"
    }
   ],
   "source": [
    "# Show random artist\n",
    "songs.artist.sample(20)"
   ]
  },
  {
   "cell_type": "code",
   "execution_count": 41,
   "metadata": {
    "collapsed": true
   },
   "outputs": [],
   "source": [
    "# Function that shows the songs of an artist\n",
    "def songs_by(artist_id):\n",
    "    return songs[songs[\"artist\"] == artist_id][[\"song_id\", \"title\"]]"
   ]
  },
  {
   "cell_type": "code",
   "execution_count": 42,
   "metadata": {},
   "outputs": [
    {
     "data": {
      "text/html": [
       "<div>\n",
       "<style scoped>\n",
       "    .dataframe tbody tr th:only-of-type {\n",
       "        vertical-align: middle;\n",
       "    }\n",
       "\n",
       "    .dataframe tbody tr th {\n",
       "        vertical-align: top;\n",
       "    }\n",
       "\n",
       "    .dataframe thead th {\n",
       "        text-align: right;\n",
       "    }\n",
       "</style>\n",
       "<table border=\"1\" class=\"dataframe\">\n",
       "  <thead>\n",
       "    <tr style=\"text-align: right;\">\n",
       "      <th></th>\n",
       "      <th>song_id</th>\n",
       "      <th>title</th>\n",
       "    </tr>\n",
       "  </thead>\n",
       "  <tbody>\n",
       "    <tr>\n",
       "      <th>23627</th>\n",
       "      <td>SOIQRKG12A6D4F63A3</td>\n",
       "      <td>Rags (Second Amendment)</td>\n",
       "    </tr>\n",
       "    <tr>\n",
       "      <th>36813</th>\n",
       "      <td>SOYQYTX12AB0186FFA</td>\n",
       "      <td>Bury My Heart</td>\n",
       "    </tr>\n",
       "    <tr>\n",
       "      <th>56909</th>\n",
       "      <td>SOYCNZF12A6D4F7F87</td>\n",
       "      <td>Fisherman's Blues</td>\n",
       "    </tr>\n",
       "    <tr>\n",
       "      <th>79882</th>\n",
       "      <td>SOGEJMW12A6D4F8626</td>\n",
       "      <td>When Will We Be Married (1987 Recording)</td>\n",
       "    </tr>\n",
       "    <tr>\n",
       "      <th>79887</th>\n",
       "      <td>SOLPBTJ12A6D4F5757</td>\n",
       "      <td>The Dance At The Crossroads</td>\n",
       "    </tr>\n",
       "    <tr>\n",
       "      <th>79900</th>\n",
       "      <td>SOPTUEN12A6D4F5751</td>\n",
       "      <td>Every Breath Is Yours</td>\n",
       "    </tr>\n",
       "    <tr>\n",
       "      <th>79914</th>\n",
       "      <td>SOWICCP12A6D4F5756</td>\n",
       "      <td>Always Dancing_ Never Getting Tired</td>\n",
       "    </tr>\n",
       "    <tr>\n",
       "      <th>97338</th>\n",
       "      <td>SOPARQV12A58A79DC9</td>\n",
       "      <td>A Pagan Place</td>\n",
       "    </tr>\n",
       "    <tr>\n",
       "      <th>115100</th>\n",
       "      <td>SODAYPE12A6D4F7F8E</td>\n",
       "      <td>This Is The Sea</td>\n",
       "    </tr>\n",
       "    <tr>\n",
       "      <th>175762</th>\n",
       "      <td>SOLLIIT12A8C133154</td>\n",
       "      <td>A Song For The Life (2008 Digital Remaster)</td>\n",
       "    </tr>\n",
       "    <tr>\n",
       "      <th>188588</th>\n",
       "      <td>SOCNIWA12A6D4F921F</td>\n",
       "      <td>December (2002 Digital Remaster)</td>\n",
       "    </tr>\n",
       "    <tr>\n",
       "      <th>188589</th>\n",
       "      <td>SOIBNYJ12A6D4FA7A3</td>\n",
       "      <td>The Three Day Man (2002 Digital Remaster)</td>\n",
       "    </tr>\n",
       "    <tr>\n",
       "      <th>188590</th>\n",
       "      <td>SOJBHVP12A6D4F91FF</td>\n",
       "      <td>Gala (Unedited) (2002 Digital Remaster)</td>\n",
       "    </tr>\n",
       "    <tr>\n",
       "      <th>217698</th>\n",
       "      <td>SOFITDM12A58A7C4D3</td>\n",
       "      <td>Somebody Might Wave Back</td>\n",
       "    </tr>\n",
       "    <tr>\n",
       "      <th>229487</th>\n",
       "      <td>SOPQQJF12A6310D8FD</td>\n",
       "      <td>Further Up Further In (2008 Digital Remaster)</td>\n",
       "    </tr>\n",
       "    <tr>\n",
       "      <th>229489</th>\n",
       "      <td>SOVTHFZ12A8C1330DE</td>\n",
       "      <td>In Search Of A Rose (Full Band)</td>\n",
       "    </tr>\n",
       "    <tr>\n",
       "      <th>229933</th>\n",
       "      <td>SOSDHSM12A8AE48ECF</td>\n",
       "      <td>On My Way To Heaven</td>\n",
       "    </tr>\n",
       "    <tr>\n",
       "      <th>229978</th>\n",
       "      <td>SOBEOSE12A679C8094</td>\n",
       "      <td>Suffer</td>\n",
       "    </tr>\n",
       "    <tr>\n",
       "      <th>233018</th>\n",
       "      <td>SOUBGLT12AF72A97DB</td>\n",
       "      <td>It Should Have Been You (2002 Digital Remaster)</td>\n",
       "    </tr>\n",
       "    <tr>\n",
       "      <th>263473</th>\n",
       "      <td>SOMYLTP12A58A7CB05</td>\n",
       "      <td>A Girl Called Johnny (2002 Digital Remaster)</td>\n",
       "    </tr>\n",
       "    <tr>\n",
       "      <th>279819</th>\n",
       "      <td>SOARNBM12AB0186FFC</td>\n",
       "      <td>Out Of Control (BBC Radio 1's ''John Peel Show...</td>\n",
       "    </tr>\n",
       "    <tr>\n",
       "      <th>303893</th>\n",
       "      <td>SOIBOBB12A6D4F60BD</td>\n",
       "      <td>Savage Earth Heart (2002 Digital Remaster)</td>\n",
       "    </tr>\n",
       "    <tr>\n",
       "      <th>304506</th>\n",
       "      <td>SOEQNSB12A6D4F8622</td>\n",
       "      <td>When Ye Go Away (2006 Digital Remaster)</td>\n",
       "    </tr>\n",
       "    <tr>\n",
       "      <th>306404</th>\n",
       "      <td>SOTUGXL12AB0186FBD</td>\n",
       "      <td>Medicine Bow (Live On BBC Radio 1's ''The Tea ...</td>\n",
       "    </tr>\n",
       "    <tr>\n",
       "      <th>325951</th>\n",
       "      <td>SOCKSXQ12AB0183024</td>\n",
       "      <td>My Lord_ What a Morning</td>\n",
       "    </tr>\n",
       "    <tr>\n",
       "      <th>372731</th>\n",
       "      <td>SOYZXHD12A6D4F7C50</td>\n",
       "      <td>In Search Of A Rose (2008 Digital Remaster)</td>\n",
       "    </tr>\n",
       "    <tr>\n",
       "      <th>372927</th>\n",
       "      <td>SOGGFDF12A8C134FE8</td>\n",
       "      <td>Upon The Wind And Waves (2008 Digital Remaster)</td>\n",
       "    </tr>\n",
       "    <tr>\n",
       "      <th>374363</th>\n",
       "      <td>SOOILCF12A8C13D3EA</td>\n",
       "      <td>Crown</td>\n",
       "    </tr>\n",
       "  </tbody>\n",
       "</table>\n",
       "</div>"
      ],
      "text/plain": [
       "                   song_id                                              title\n",
       "23627   SOIQRKG12A6D4F63A3                            Rags (Second Amendment)\n",
       "36813   SOYQYTX12AB0186FFA                                      Bury My Heart\n",
       "56909   SOYCNZF12A6D4F7F87                                  Fisherman's Blues\n",
       "79882   SOGEJMW12A6D4F8626           When Will We Be Married (1987 Recording)\n",
       "79887   SOLPBTJ12A6D4F5757                        The Dance At The Crossroads\n",
       "79900   SOPTUEN12A6D4F5751                              Every Breath Is Yours\n",
       "79914   SOWICCP12A6D4F5756                Always Dancing_ Never Getting Tired\n",
       "97338   SOPARQV12A58A79DC9                                      A Pagan Place\n",
       "115100  SODAYPE12A6D4F7F8E                                    This Is The Sea\n",
       "175762  SOLLIIT12A8C133154        A Song For The Life (2008 Digital Remaster)\n",
       "188588  SOCNIWA12A6D4F921F                   December (2002 Digital Remaster)\n",
       "188589  SOIBNYJ12A6D4FA7A3          The Three Day Man (2002 Digital Remaster)\n",
       "188590  SOJBHVP12A6D4F91FF            Gala (Unedited) (2002 Digital Remaster)\n",
       "217698  SOFITDM12A58A7C4D3                           Somebody Might Wave Back\n",
       "229487  SOPQQJF12A6310D8FD      Further Up Further In (2008 Digital Remaster)\n",
       "229489  SOVTHFZ12A8C1330DE                    In Search Of A Rose (Full Band)\n",
       "229933  SOSDHSM12A8AE48ECF                                On My Way To Heaven\n",
       "229978  SOBEOSE12A679C8094                                             Suffer\n",
       "233018  SOUBGLT12AF72A97DB    It Should Have Been You (2002 Digital Remaster)\n",
       "263473  SOMYLTP12A58A7CB05       A Girl Called Johnny (2002 Digital Remaster)\n",
       "279819  SOARNBM12AB0186FFC  Out Of Control (BBC Radio 1's ''John Peel Show...\n",
       "303893  SOIBOBB12A6D4F60BD         Savage Earth Heart (2002 Digital Remaster)\n",
       "304506  SOEQNSB12A6D4F8622            When Ye Go Away (2006 Digital Remaster)\n",
       "306404  SOTUGXL12AB0186FBD  Medicine Bow (Live On BBC Radio 1's ''The Tea ...\n",
       "325951  SOCKSXQ12AB0183024                            My Lord_ What a Morning\n",
       "372731  SOYZXHD12A6D4F7C50        In Search Of A Rose (2008 Digital Remaster)\n",
       "372927  SOGGFDF12A8C134FE8    Upon The Wind And Waves (2008 Digital Remaster)\n",
       "374363  SOOILCF12A8C13D3EA                                              Crown"
      ]
     },
     "execution_count": 42,
     "metadata": {},
     "output_type": "execute_result"
    }
   ],
   "source": [
    "songs_by(\"The Waterboys\")"
   ]
  },
  {
   "cell_type": "code",
   "execution_count": null,
   "metadata": {
    "collapsed": true
   },
   "outputs": [],
   "source": []
  },
  {
   "cell_type": "code",
   "execution_count": null,
   "metadata": {},
   "outputs": [],
   "source": [
    "songs.sample(50)"
   ]
  },
  {
   "cell_type": "code",
   "execution_count": null,
   "metadata": {
    "collapsed": true
   },
   "outputs": [],
   "source": [
    "# Randomly selected songs for the test\n",
    "selected_songs = [\"SOBWKZB12A8C136891\", \"SOSWNMA12A6D4F796F\", \"SOXWOLZ12A8C135F54\", \"SONWNJJ12A67AD8492\", \\\n",
    "                  \"SOHQCOD12AB018316C\", \"SOFDKPU12A58A7A06A\", \"SOVKUHB12AAF3B3636\", \"SONJNVN12A6701C689\", \\\n",
    "                  \"SOMMXAD12A58A76FBF\", \"SOZYUBF12AB018337B\"]"
   ]
  },
  {
   "cell_type": "code",
   "execution_count": 56,
   "metadata": {},
   "outputs": [
    {
     "data": {
      "text/html": [
       "<div>\n",
       "<style scoped>\n",
       "    .dataframe tbody tr th:only-of-type {\n",
       "        vertical-align: middle;\n",
       "    }\n",
       "\n",
       "    .dataframe tbody tr th {\n",
       "        vertical-align: top;\n",
       "    }\n",
       "\n",
       "    .dataframe thead th {\n",
       "        text-align: right;\n",
       "    }\n",
       "</style>\n",
       "<table border=\"1\" class=\"dataframe\">\n",
       "  <thead>\n",
       "    <tr style=\"text-align: right;\">\n",
       "      <th></th>\n",
       "      <th>user_id</th>\n",
       "      <th>song_id</th>\n",
       "      <th>mun_plays</th>\n",
       "    </tr>\n",
       "  </thead>\n",
       "  <tbody>\n",
       "    <tr>\n",
       "      <th>0</th>\n",
       "      <td>00000b722001882066dff9d2da8a775658053ea0</td>\n",
       "      <td>SORDKNX12A8C13A45F</td>\n",
       "      <td>1</td>\n",
       "    </tr>\n",
       "    <tr>\n",
       "      <th>1</th>\n",
       "      <td>00000b722001882066dff9d2da8a775658053ea0</td>\n",
       "      <td>SOFLJQZ12A6D4FADA6</td>\n",
       "      <td>1</td>\n",
       "    </tr>\n",
       "    <tr>\n",
       "      <th>2</th>\n",
       "      <td>00000b722001882066dff9d2da8a775658053ea0</td>\n",
       "      <td>SOUBEXV12AB01804A4</td>\n",
       "      <td>1</td>\n",
       "    </tr>\n",
       "    <tr>\n",
       "      <th>3</th>\n",
       "      <td>00000b722001882066dff9d2da8a775658053ea0</td>\n",
       "      <td>SOKBXYC12A6D4F59D6</td>\n",
       "      <td>1</td>\n",
       "    </tr>\n",
       "    <tr>\n",
       "      <th>4</th>\n",
       "      <td>00000b722001882066dff9d2da8a775658053ea0</td>\n",
       "      <td>SOJOJUN12A8AE47E1D</td>\n",
       "      <td>1</td>\n",
       "    </tr>\n",
       "  </tbody>\n",
       "</table>\n",
       "</div>"
      ],
      "text/plain": [
       "                                    user_id             song_id mun_plays\n",
       "0  00000b722001882066dff9d2da8a775658053ea0  SORDKNX12A8C13A45F         1\n",
       "1  00000b722001882066dff9d2da8a775658053ea0  SOFLJQZ12A6D4FADA6         1\n",
       "2  00000b722001882066dff9d2da8a775658053ea0  SOUBEXV12AB01804A4         1\n",
       "3  00000b722001882066dff9d2da8a775658053ea0  SOKBXYC12A6D4F59D6         1\n",
       "4  00000b722001882066dff9d2da8a775658053ea0  SOJOJUN12A8AE47E1D         1"
      ]
     },
     "execution_count": 56,
     "metadata": {},
     "output_type": "execute_result"
    }
   ],
   "source": [
    "# Let's get the songs from a real user\n",
    "datafile = os.path.join(data_root, \"train_listenings.pkl\")\n",
    "user_list = pd.read_pickle(datafile)\n",
    "train_user = pd.DataFrame(user_list, columns=['user_id', 'song_id', 'mun_plays'])\n",
    "train_user.head()\n"
   ]
  },
  {
   "cell_type": "code",
   "execution_count": 57,
   "metadata": {},
   "outputs": [
    {
     "data": {
      "text/html": [
       "<div>\n",
       "<style scoped>\n",
       "    .dataframe tbody tr th:only-of-type {\n",
       "        vertical-align: middle;\n",
       "    }\n",
       "\n",
       "    .dataframe tbody tr th {\n",
       "        vertical-align: top;\n",
       "    }\n",
       "\n",
       "    .dataframe thead th {\n",
       "        text-align: right;\n",
       "    }\n",
       "</style>\n",
       "<table border=\"1\" class=\"dataframe\">\n",
       "  <thead>\n",
       "    <tr style=\"text-align: right;\">\n",
       "      <th></th>\n",
       "      <th>user_id</th>\n",
       "      <th>song_id</th>\n",
       "      <th>mun_plays</th>\n",
       "    </tr>\n",
       "  </thead>\n",
       "  <tbody>\n",
       "    <tr>\n",
       "      <th>count</th>\n",
       "      <td>10</td>\n",
       "      <td>10</td>\n",
       "      <td>10</td>\n",
       "    </tr>\n",
       "    <tr>\n",
       "      <th>unique</th>\n",
       "      <td>1</td>\n",
       "      <td>10</td>\n",
       "      <td>2</td>\n",
       "    </tr>\n",
       "    <tr>\n",
       "      <th>top</th>\n",
       "      <td>00000b722001882066dff9d2da8a775658053ea0</td>\n",
       "      <td>SOJOJUN12A8AE47E1D</td>\n",
       "      <td>1</td>\n",
       "    </tr>\n",
       "    <tr>\n",
       "      <th>freq</th>\n",
       "      <td>10</td>\n",
       "      <td>1</td>\n",
       "      <td>9</td>\n",
       "    </tr>\n",
       "  </tbody>\n",
       "</table>\n",
       "</div>"
      ],
      "text/plain": [
       "                                         user_id             song_id mun_plays\n",
       "count                                         10                  10        10\n",
       "unique                                         1                  10         2\n",
       "top     00000b722001882066dff9d2da8a775658053ea0  SOJOJUN12A8AE47E1D         1\n",
       "freq                                          10                   1         9"
      ]
     },
     "execution_count": 57,
     "metadata": {},
     "output_type": "execute_result"
    }
   ],
   "source": [
    "train_user.describe()"
   ]
  },
  {
   "cell_type": "code",
   "execution_count": 59,
   "metadata": {
    "collapsed": true
   },
   "outputs": [],
   "source": [
    "# Lets make a list of songs from the train user\n",
    "selected_songs = train_user['song_id']"
   ]
  },
  {
   "cell_type": "code",
   "execution_count": 88,
   "metadata": {},
   "outputs": [
    {
     "data": {
      "text/html": [
       "<div>\n",
       "<style scoped>\n",
       "    .dataframe tbody tr th:only-of-type {\n",
       "        vertical-align: middle;\n",
       "    }\n",
       "\n",
       "    .dataframe tbody tr th {\n",
       "        vertical-align: top;\n",
       "    }\n",
       "\n",
       "    .dataframe thead th {\n",
       "        text-align: right;\n",
       "    }\n",
       "</style>\n",
       "<table border=\"1\" class=\"dataframe\">\n",
       "  <thead>\n",
       "    <tr style=\"text-align: right;\">\n",
       "      <th></th>\n",
       "      <th>artist</th>\n",
       "      <th>title</th>\n",
       "    </tr>\n",
       "  </thead>\n",
       "  <tbody>\n",
       "    <tr>\n",
       "      <th>0</th>\n",
       "      <td>Giles</td>\n",
       "      <td>Replay (Album Version)</td>\n",
       "    </tr>\n",
       "    <tr>\n",
       "      <th>1</th>\n",
       "      <td>Cartola</td>\n",
       "      <td>Tive Sim</td>\n",
       "    </tr>\n",
       "    <tr>\n",
       "      <th>2</th>\n",
       "      <td>Miley Cyrus</td>\n",
       "      <td>Don't Walk Away</td>\n",
       "    </tr>\n",
       "    <tr>\n",
       "      <th>3</th>\n",
       "      <td>Jim Gaffigan</td>\n",
       "      <td>Gravy Drinker (LP Version)</td>\n",
       "    </tr>\n",
       "    <tr>\n",
       "      <th>4</th>\n",
       "      <td>Edwyn Collins</td>\n",
       "      <td>Superstar Talking Blues</td>\n",
       "    </tr>\n",
       "    <tr>\n",
       "      <th>5</th>\n",
       "      <td>Tab Benoit</td>\n",
       "      <td>Jambalaya</td>\n",
       "    </tr>\n",
       "    <tr>\n",
       "      <th>6</th>\n",
       "      <td>MC Solaar</td>\n",
       "      <td>Nouveau western</td>\n",
       "    </tr>\n",
       "    <tr>\n",
       "      <th>7</th>\n",
       "      <td>Blue Man Group</td>\n",
       "      <td>Rods And Cones</td>\n",
       "    </tr>\n",
       "    <tr>\n",
       "      <th>8</th>\n",
       "      <td>John Parish / PJ Harvey</td>\n",
       "      <td>Heela</td>\n",
       "    </tr>\n",
       "    <tr>\n",
       "      <th>9</th>\n",
       "      <td>Jim Gaffigan</td>\n",
       "      <td>Hooooot Pocket! (LP Version)</td>\n",
       "    </tr>\n",
       "  </tbody>\n",
       "</table>\n",
       "</div>"
      ],
      "text/plain": [
       "                    artist                         title\n",
       "0                    Giles        Replay (Album Version)\n",
       "1                  Cartola                      Tive Sim\n",
       "2              Miley Cyrus               Don't Walk Away\n",
       "3             Jim Gaffigan    Gravy Drinker (LP Version)\n",
       "4            Edwyn Collins       Superstar Talking Blues\n",
       "5               Tab Benoit                     Jambalaya\n",
       "6                MC Solaar               Nouveau western\n",
       "7           Blue Man Group                Rods And Cones\n",
       "8  John Parish / PJ Harvey                         Heela\n",
       "9             Jim Gaffigan  Hooooot Pocket! (LP Version)"
      ]
     },
     "execution_count": 88,
     "metadata": {},
     "output_type": "execute_result"
    }
   ],
   "source": [
    "# Titles of the songs played by the train user\n",
    "train_user.merge(songs,\n",
    "                left_on = 'song_id',\n",
    "                right_on = 'song_id',\n",
    "                how = 'inner')[['artist', 'title']]"
   ]
  },
  {
   "cell_type": "code",
   "execution_count": 94,
   "metadata": {
    "collapsed": true
   },
   "outputs": [],
   "source": [
    "# Now let's find other users that listened to those songs\n",
    "similar_users = data[data[\"song_id\"].isin(selected_songs)]['user_id'].reset_index(name='user_id')"
   ]
  },
  {
   "cell_type": "code",
   "execution_count": 95,
   "metadata": {},
   "outputs": [
    {
     "data": {
      "text/html": [
       "<div>\n",
       "<style scoped>\n",
       "    .dataframe tbody tr th:only-of-type {\n",
       "        vertical-align: middle;\n",
       "    }\n",
       "\n",
       "    .dataframe tbody tr th {\n",
       "        vertical-align: top;\n",
       "    }\n",
       "\n",
       "    .dataframe thead th {\n",
       "        text-align: right;\n",
       "    }\n",
       "</style>\n",
       "<table border=\"1\" class=\"dataframe\">\n",
       "  <thead>\n",
       "    <tr style=\"text-align: right;\">\n",
       "      <th></th>\n",
       "      <th>index</th>\n",
       "      <th>user_id</th>\n",
       "    </tr>\n",
       "  </thead>\n",
       "  <tbody>\n",
       "    <tr>\n",
       "      <th>0</th>\n",
       "      <td>2030</td>\n",
       "      <td>2b6c2f33bc0e887ea7c4411f58106805a1923280</td>\n",
       "    </tr>\n",
       "    <tr>\n",
       "      <th>1</th>\n",
       "      <td>3047</td>\n",
       "      <td>b6b799f34a204bd928ea014c243ddad6d0be4f8f</td>\n",
       "    </tr>\n",
       "    <tr>\n",
       "      <th>2</th>\n",
       "      <td>3272</td>\n",
       "      <td>732f88be38fae217f8ab7e24c20dd072436e3e40</td>\n",
       "    </tr>\n",
       "    <tr>\n",
       "      <th>3</th>\n",
       "      <td>4035</td>\n",
       "      <td>9fba771d9731561eba47216f6fbfc0023d88641b</td>\n",
       "    </tr>\n",
       "    <tr>\n",
       "      <th>4</th>\n",
       "      <td>4111</td>\n",
       "      <td>62f2f9b881dc320d745a90c0c10528d18e10deb1</td>\n",
       "    </tr>\n",
       "  </tbody>\n",
       "</table>\n",
       "</div>"
      ],
      "text/plain": [
       "   index                                   user_id\n",
       "0   2030  2b6c2f33bc0e887ea7c4411f58106805a1923280\n",
       "1   3047  b6b799f34a204bd928ea014c243ddad6d0be4f8f\n",
       "2   3272  732f88be38fae217f8ab7e24c20dd072436e3e40\n",
       "3   4035  9fba771d9731561eba47216f6fbfc0023d88641b\n",
       "4   4111  62f2f9b881dc320d745a90c0c10528d18e10deb1"
      ]
     },
     "execution_count": 95,
     "metadata": {},
     "output_type": "execute_result"
    }
   ],
   "source": [
    "similar_users.head()"
   ]
  },
  {
   "cell_type": "code",
   "execution_count": 83,
   "metadata": {},
   "outputs": [
    {
     "data": {
      "text/html": [
       "<div>\n",
       "<style scoped>\n",
       "    .dataframe tbody tr th:only-of-type {\n",
       "        vertical-align: middle;\n",
       "    }\n",
       "\n",
       "    .dataframe tbody tr th {\n",
       "        vertical-align: top;\n",
       "    }\n",
       "\n",
       "    .dataframe thead th {\n",
       "        text-align: right;\n",
       "    }\n",
       "</style>\n",
       "<table border=\"1\" class=\"dataframe\">\n",
       "  <thead>\n",
       "    <tr style=\"text-align: right;\">\n",
       "      <th></th>\n",
       "      <th>index</th>\n",
       "    </tr>\n",
       "  </thead>\n",
       "  <tbody>\n",
       "    <tr>\n",
       "      <th>count</th>\n",
       "      <td>75588.000</td>\n",
       "    </tr>\n",
       "    <tr>\n",
       "      <th>mean</th>\n",
       "      <td>24087314.656</td>\n",
       "    </tr>\n",
       "    <tr>\n",
       "      <th>std</th>\n",
       "      <td>13933310.624</td>\n",
       "    </tr>\n",
       "    <tr>\n",
       "      <th>min</th>\n",
       "      <td>2030.000</td>\n",
       "    </tr>\n",
       "    <tr>\n",
       "      <th>25%</th>\n",
       "      <td>11970264.750</td>\n",
       "    </tr>\n",
       "    <tr>\n",
       "      <th>50%</th>\n",
       "      <td>24156641.000</td>\n",
       "    </tr>\n",
       "    <tr>\n",
       "      <th>75%</th>\n",
       "      <td>36118919.000</td>\n",
       "    </tr>\n",
       "    <tr>\n",
       "      <th>max</th>\n",
       "      <td>48373263.000</td>\n",
       "    </tr>\n",
       "  </tbody>\n",
       "</table>\n",
       "</div>"
      ],
      "text/plain": [
       "             index\n",
       "count    75588.000\n",
       "mean  24087314.656\n",
       "std   13933310.624\n",
       "min       2030.000\n",
       "25%   11970264.750\n",
       "50%   24156641.000\n",
       "75%   36118919.000\n",
       "max   48373263.000"
      ]
     },
     "execution_count": 83,
     "metadata": {},
     "output_type": "execute_result"
    }
   ],
   "source": [
    "similar_users.describe()"
   ]
  },
  {
   "cell_type": "code",
   "execution_count": 89,
   "metadata": {},
   "outputs": [],
   "source": [
    "# Create a data frame with all the songs of our similar users\n",
    "# What for???\n",
    "similar_users_plays = data.merge(similar_users, \n",
    "                           left_on = 'user_id', \n",
    "                           right_on = 'user_id', \n",
    "                           how = 'inner')[[\"user_id\", \"song_id\", \"num_plays\"]]"
   ]
  },
  {
   "cell_type": "code",
   "execution_count": 90,
   "metadata": {},
   "outputs": [
    {
     "data": {
      "text/html": [
       "<div>\n",
       "<style scoped>\n",
       "    .dataframe tbody tr th:only-of-type {\n",
       "        vertical-align: middle;\n",
       "    }\n",
       "\n",
       "    .dataframe tbody tr th {\n",
       "        vertical-align: top;\n",
       "    }\n",
       "\n",
       "    .dataframe thead th {\n",
       "        text-align: right;\n",
       "    }\n",
       "</style>\n",
       "<table border=\"1\" class=\"dataframe\">\n",
       "  <thead>\n",
       "    <tr style=\"text-align: right;\">\n",
       "      <th></th>\n",
       "      <th>user_id</th>\n",
       "      <th>song_id</th>\n",
       "      <th>num_plays</th>\n",
       "    </tr>\n",
       "  </thead>\n",
       "  <tbody>\n",
       "    <tr>\n",
       "      <th>0</th>\n",
       "      <td>2b6c2f33bc0e887ea7c4411f58106805a1923280</td>\n",
       "      <td>SOAUWYT12A81C206F1</td>\n",
       "      <td>6</td>\n",
       "    </tr>\n",
       "    <tr>\n",
       "      <th>1</th>\n",
       "      <td>2b6c2f33bc0e887ea7c4411f58106805a1923280</td>\n",
       "      <td>SOBMPJM12A8C13BAE2</td>\n",
       "      <td>1</td>\n",
       "    </tr>\n",
       "    <tr>\n",
       "      <th>2</th>\n",
       "      <td>2b6c2f33bc0e887ea7c4411f58106805a1923280</td>\n",
       "      <td>SOBONKR12A58A7A7E0</td>\n",
       "      <td>2</td>\n",
       "    </tr>\n",
       "    <tr>\n",
       "      <th>3</th>\n",
       "      <td>2b6c2f33bc0e887ea7c4411f58106805a1923280</td>\n",
       "      <td>SOBYSSP12AAF3B32CA</td>\n",
       "      <td>2</td>\n",
       "    </tr>\n",
       "    <tr>\n",
       "      <th>4</th>\n",
       "      <td>2b6c2f33bc0e887ea7c4411f58106805a1923280</td>\n",
       "      <td>SOCBDPR12A6701F792</td>\n",
       "      <td>1</td>\n",
       "    </tr>\n",
       "  </tbody>\n",
       "</table>\n",
       "</div>"
      ],
      "text/plain": [
       "                                    user_id             song_id  num_plays\n",
       "0  2b6c2f33bc0e887ea7c4411f58106805a1923280  SOAUWYT12A81C206F1          6\n",
       "1  2b6c2f33bc0e887ea7c4411f58106805a1923280  SOBMPJM12A8C13BAE2          1\n",
       "2  2b6c2f33bc0e887ea7c4411f58106805a1923280  SOBONKR12A58A7A7E0          2\n",
       "3  2b6c2f33bc0e887ea7c4411f58106805a1923280  SOBYSSP12AAF3B32CA          2\n",
       "4  2b6c2f33bc0e887ea7c4411f58106805a1923280  SOCBDPR12A6701F792          1"
      ]
     },
     "execution_count": 90,
     "metadata": {},
     "output_type": "execute_result"
    }
   ],
   "source": [
    "similar_users_plays.head()"
   ]
  },
  {
   "cell_type": "code",
   "execution_count": 91,
   "metadata": {},
   "outputs": [
    {
     "data": {
      "text/plain": [
       "count                5336240\n",
       "unique                219078\n",
       "top       SOFLJQZ12A6D4FADA6\n",
       "freq                   60803\n",
       "Name: song_id, dtype: object"
      ]
     },
     "execution_count": 91,
     "metadata": {},
     "output_type": "execute_result"
    }
   ],
   "source": [
    "similar_users_plays['song_id'].describe()"
   ]
  },
  {
   "cell_type": "code",
   "execution_count": 98,
   "metadata": {},
   "outputs": [
    {
     "data": {
      "text/plain": [
       "user_id\n",
       "00000b722001882066dff9d2da8a775658053ea0    10\n",
       "20ff5a5506da7eef77835a0fe84a006e3c525a39     6\n",
       "a32cfe061d740a7236d8727946f81f1a15c7028f     6\n",
       "94e3357310cd860548432d5fb68a88c3032ca1e8     6\n",
       "ed6426b2069480821ad8271b8c47ddd6df2ff674     5\n",
       "edb5a29d03eb009f100aab5999aceb530c07a065     5\n",
       "8b8f370f1bcbea4fc8b82fda3befb80bb9533253     5\n",
       "9f85a4c39ee437c73fca1cb43b09e7283a06f9de     5\n",
       "970b23b0a4a725d51545c9a6e333500a48271b03     5\n",
       "2343b6f1e4b7408f7463aa5c00008296a6822dbf     5\n",
       "340bc3cfcc095dc8ef3a90f83839b77c232ffa58     5\n",
       "70d1b8f61b9b79c4fba9f764807bff3d02e6c647     5\n",
       "8e56e10637928a0bd88409211e06232ddf0f0e32     5\n",
       "96c8d38bbb32ef781b96b33e50ad9c03eb62c340     5\n",
       "aab42f141f70914c82ccca5cecee6942270ee588     5\n",
       "44ace73d853dbe305c67dca4f1b02913e3075450     5\n",
       "47988192adad5b09d8a7ee7f91268757d9b91988     5\n",
       "01b44213810365eff7d555ebdb84b91cdb275271     5\n",
       "845d41a896304caa3ea1a0c588bc9fc745fa24ea     4\n",
       "04e60c0940bd7a022038e219c528c1e27cd042ce     4\n",
       "b97b0284199acd6f6020f2a19aa479bac0b7d100     4\n",
       "08eb4627a2e88b9df52f8ccc1ff3a06842cc0f2e     4\n",
       "ff01c35892e59f297299c515daf5c078e91c218d     4\n",
       "1dd2d566e4d7dd90fd80bb027c664acbd0e16202     4\n",
       "78e37374e868872f8424b4a6e7da141d9b166f42     4\n",
       "61fe6e26f16c9fa070c6c30ed176a5b8d38e0a5e     4\n",
       "0583c12e151732eda5f9396edb59824009a3d6db     4\n",
       "8b56b1449b1799b71be91c27cd5f96ec7c6fb426     4\n",
       "81a66516e25fdc6be32e81c44ba6678d9500e478     4\n",
       "0ad2210988a0842ea73d816289348d80837a2cfb     4\n",
       "                                            ..\n",
       "a81e6b6c3e582061dfcd084ffd112eacedcf89d3     1\n",
       "a81d127d54d75e9a443eb03737fc26b75021d625     1\n",
       "a81cc4040c8327eb3d90ea9f499eba21d2cb23eb     1\n",
       "a81c16dec159de1284759106e2bdbdb271b1afd8     1\n",
       "a81b7c9c0e4dfbe7f5073ee250c5a860560e85e1     1\n",
       "a818055fca80b979b8b70a6313a9559deff40812     1\n",
       "a816977c9818ccef61cbf052b643ef9369166131     1\n",
       "a81673281381918e9e7a66b2c57f9a5e55147017     1\n",
       "a815658225c36a6d9e8e4934d4ec66a1fabc1b71     1\n",
       "a81449c3b18aad68e8ebd8f0029ebc69454372c5     1\n",
       "a8129ae78d1705369e4082023aaf8bc539569089     1\n",
       "a811dd3abc13ba1b2c43eeb66500d2900b8ae918     1\n",
       "a8119994c2014586dd847243d3eb25dee1c12507     1\n",
       "a8116d5e6adaa04f459116b88915517d4e0be8cb     1\n",
       "a810bb896d749a1e94daaf91e6b4d7bf36adcaa9     1\n",
       "a80dbb387134c6087a641137df3dd5cd98210fb5     1\n",
       "a80db7bb7caf638387134b4988d529918bc65de6     1\n",
       "a80d6d7626842643fc8b8f30f2c501cdb2e0f8e1     1\n",
       "a80cd4f971f9d608b042e574bbf283745eefe527     1\n",
       "a80bff3dbd2eb77764c46cf85394fd56228d043c     1\n",
       "a80bfdbdc6f634e983cb6a915e6d9de059618da5     1\n",
       "a808f3627c5b92b5861d558fc925c2ef4897f22c     1\n",
       "a808e615d079ca4afc424c5795ced00e70f02342     1\n",
       "a808cdf99fd9b08bc1b584f1fef0fd50493eb6cd     1\n",
       "a808bc8ed3e95a8155da8c005ee08514ef7b10d5     1\n",
       "a8089efd9d1fa9bf7347267f1dabf896e9d65cbe     1\n",
       "a80867ff0d12b191c5eb56f06abb565cf7521a51     1\n",
       "a80783522e1104e121cc0ad2586838b5ed129006     1\n",
       "a806b58a0ab47fa745e5fd07265e2d8fbc7d4f4d     1\n",
       "7fccaefc2a92ddd3ec1ed58fbd163a39ad686095     1\n",
       "Length: 70170, dtype: int64"
      ]
     },
     "execution_count": 98,
     "metadata": {},
     "output_type": "execute_result"
    }
   ],
   "source": [
    "# Let's see how many of our songs those users have played\n",
    "\n",
    "data[data[\"song_id\"].isin(selected_songs)].groupby(['user_id']).size().sort_values(ascending = False)"
   ]
  },
  {
   "cell_type": "code",
   "execution_count": null,
   "metadata": {
    "collapsed": true
   },
   "outputs": [],
   "source": [
    "# Function that selects all the songs of a user\n",
    "def songs_of_user(u_id):\n",
    "    return data[data[\"user_id\"] == u_id]"
   ]
  },
  {
   "cell_type": "markdown",
   "metadata": {},
   "source": [
    "This phase is not yet completed, as we have to assing a weight to the users depending on similarity (number of my songs played) with me, but right now we are going to make a rough estimation.\n",
    "\n",
    "Let's find out which are the most popular songs amongst my \"similar\" users. We could order the songs by sum of play count, but ths method is very sensible to outliers (a user may have listened a hundred times to the same song), so we are going to find the most popular (most repeated) songs among these users EXCLUDING MY SELECTED_SONGS!!!!!"
   ]
  },
  {
   "cell_type": "code",
   "execution_count": 102,
   "metadata": {},
   "outputs": [],
   "source": [
    "prediction_df = similar_users.merge(data[~data.song_id.isin(selected_songs)],\n",
    "                   left_on = 'user_id',\n",
    "                   right_on = 'user_id')\n",
    "\n",
    "# data.merge(similar_users,\n",
    "#           left_on = 'user_id',\n",
    "#           right_on = 'user_id',\n",
    "#           )\n",
    "\n",
    "# data[\"song_id\"].isin(selected_songs)\n",
    "\n",
    "\n",
    "# airport_freq.merge(airports[airports.ident == 'KLAX'][['id']], \n",
    "#                    left_on='airport_ref', \n",
    "#                    right_on='id', \n",
    "#                    how='inner')[['airport_ident', 'type', 'description', 'frequency_mhz']]"
   ]
  },
  {
   "cell_type": "code",
   "execution_count": 106,
   "metadata": {},
   "outputs": [
    {
     "data": {
      "text/plain": [
       "70170"
      ]
     },
     "execution_count": 106,
     "metadata": {},
     "output_type": "execute_result"
    }
   ],
   "source": [
    "prediction_df.user_id.unique().shape[0]"
   ]
  },
  {
   "cell_type": "code",
   "execution_count": 109,
   "metadata": {},
   "outputs": [
    {
     "data": {
      "text/html": [
       "<div>\n",
       "<style scoped>\n",
       "    .dataframe tbody tr th:only-of-type {\n",
       "        vertical-align: middle;\n",
       "    }\n",
       "\n",
       "    .dataframe tbody tr th {\n",
       "        vertical-align: top;\n",
       "    }\n",
       "\n",
       "    .dataframe thead th {\n",
       "        text-align: right;\n",
       "    }\n",
       "</style>\n",
       "<table border=\"1\" class=\"dataframe\">\n",
       "  <thead>\n",
       "    <tr style=\"text-align: right;\">\n",
       "      <th></th>\n",
       "      <th>index</th>\n",
       "      <th>user_id</th>\n",
       "      <th>song_id</th>\n",
       "      <th>num_plays</th>\n",
       "    </tr>\n",
       "  </thead>\n",
       "  <tbody>\n",
       "  </tbody>\n",
       "</table>\n",
       "</div>"
      ],
      "text/plain": [
       "Empty DataFrame\n",
       "Columns: [index, user_id, song_id, num_plays]\n",
       "Index: []"
      ]
     },
     "execution_count": 109,
     "metadata": {},
     "output_type": "execute_result"
    }
   ],
   "source": [
    "# Let's chack that the selected songs are not in the prediction dataframe\n",
    "\n",
    "prediction_df[prediction_df.song_id == \"SORDKNX12A8C13A45F\"]\n",
    "\n",
    "# Crrect result has to be an empty dataframe"
   ]
  },
  {
   "cell_type": "code",
   "execution_count": 114,
   "metadata": {},
   "outputs": [
    {
     "data": {
      "text/html": [
       "<div>\n",
       "<style scoped>\n",
       "    .dataframe tbody tr th:only-of-type {\n",
       "        vertical-align: middle;\n",
       "    }\n",
       "\n",
       "    .dataframe tbody tr th {\n",
       "        vertical-align: top;\n",
       "    }\n",
       "\n",
       "    .dataframe thead th {\n",
       "        text-align: right;\n",
       "    }\n",
       "</style>\n",
       "<table border=\"1\" class=\"dataframe\">\n",
       "  <thead>\n",
       "    <tr style=\"text-align: right;\">\n",
       "      <th></th>\n",
       "      <th>index</th>\n",
       "      <th>user_id</th>\n",
       "      <th>song_id</th>\n",
       "      <th>num_plays</th>\n",
       "    </tr>\n",
       "  </thead>\n",
       "  <tbody>\n",
       "    <tr>\n",
       "      <th>1338114</th>\n",
       "      <td>12098218</td>\n",
       "      <td>00000b722001882066dff9d2da8a775658053ea0</td>\n",
       "      <td>SOCTXQW12A6D4F70AD</td>\n",
       "      <td>1</td>\n",
       "    </tr>\n",
       "    <tr>\n",
       "      <th>1338115</th>\n",
       "      <td>12098218</td>\n",
       "      <td>00000b722001882066dff9d2da8a775658053ea0</td>\n",
       "      <td>SOCZQCY12AC468E40F</td>\n",
       "      <td>1</td>\n",
       "    </tr>\n",
       "    <tr>\n",
       "      <th>1338116</th>\n",
       "      <td>12098219</td>\n",
       "      <td>00000b722001882066dff9d2da8a775658053ea0</td>\n",
       "      <td>SOCTXQW12A6D4F70AD</td>\n",
       "      <td>1</td>\n",
       "    </tr>\n",
       "    <tr>\n",
       "      <th>1338117</th>\n",
       "      <td>12098219</td>\n",
       "      <td>00000b722001882066dff9d2da8a775658053ea0</td>\n",
       "      <td>SOCZQCY12AC468E40F</td>\n",
       "      <td>1</td>\n",
       "    </tr>\n",
       "    <tr>\n",
       "      <th>1338118</th>\n",
       "      <td>12098222</td>\n",
       "      <td>00000b722001882066dff9d2da8a775658053ea0</td>\n",
       "      <td>SOCTXQW12A6D4F70AD</td>\n",
       "      <td>1</td>\n",
       "    </tr>\n",
       "    <tr>\n",
       "      <th>1338119</th>\n",
       "      <td>12098222</td>\n",
       "      <td>00000b722001882066dff9d2da8a775658053ea0</td>\n",
       "      <td>SOCZQCY12AC468E40F</td>\n",
       "      <td>1</td>\n",
       "    </tr>\n",
       "    <tr>\n",
       "      <th>1338120</th>\n",
       "      <td>12098223</td>\n",
       "      <td>00000b722001882066dff9d2da8a775658053ea0</td>\n",
       "      <td>SOCTXQW12A6D4F70AD</td>\n",
       "      <td>1</td>\n",
       "    </tr>\n",
       "    <tr>\n",
       "      <th>1338121</th>\n",
       "      <td>12098223</td>\n",
       "      <td>00000b722001882066dff9d2da8a775658053ea0</td>\n",
       "      <td>SOCZQCY12AC468E40F</td>\n",
       "      <td>1</td>\n",
       "    </tr>\n",
       "    <tr>\n",
       "      <th>1338122</th>\n",
       "      <td>12098224</td>\n",
       "      <td>00000b722001882066dff9d2da8a775658053ea0</td>\n",
       "      <td>SOCTXQW12A6D4F70AD</td>\n",
       "      <td>1</td>\n",
       "    </tr>\n",
       "    <tr>\n",
       "      <th>1338123</th>\n",
       "      <td>12098224</td>\n",
       "      <td>00000b722001882066dff9d2da8a775658053ea0</td>\n",
       "      <td>SOCZQCY12AC468E40F</td>\n",
       "      <td>1</td>\n",
       "    </tr>\n",
       "    <tr>\n",
       "      <th>1338124</th>\n",
       "      <td>12098225</td>\n",
       "      <td>00000b722001882066dff9d2da8a775658053ea0</td>\n",
       "      <td>SOCTXQW12A6D4F70AD</td>\n",
       "      <td>1</td>\n",
       "    </tr>\n",
       "    <tr>\n",
       "      <th>1338125</th>\n",
       "      <td>12098225</td>\n",
       "      <td>00000b722001882066dff9d2da8a775658053ea0</td>\n",
       "      <td>SOCZQCY12AC468E40F</td>\n",
       "      <td>1</td>\n",
       "    </tr>\n",
       "    <tr>\n",
       "      <th>1338126</th>\n",
       "      <td>12098226</td>\n",
       "      <td>00000b722001882066dff9d2da8a775658053ea0</td>\n",
       "      <td>SOCTXQW12A6D4F70AD</td>\n",
       "      <td>1</td>\n",
       "    </tr>\n",
       "    <tr>\n",
       "      <th>1338127</th>\n",
       "      <td>12098226</td>\n",
       "      <td>00000b722001882066dff9d2da8a775658053ea0</td>\n",
       "      <td>SOCZQCY12AC468E40F</td>\n",
       "      <td>1</td>\n",
       "    </tr>\n",
       "    <tr>\n",
       "      <th>1338128</th>\n",
       "      <td>12098227</td>\n",
       "      <td>00000b722001882066dff9d2da8a775658053ea0</td>\n",
       "      <td>SOCTXQW12A6D4F70AD</td>\n",
       "      <td>1</td>\n",
       "    </tr>\n",
       "    <tr>\n",
       "      <th>1338129</th>\n",
       "      <td>12098227</td>\n",
       "      <td>00000b722001882066dff9d2da8a775658053ea0</td>\n",
       "      <td>SOCZQCY12AC468E40F</td>\n",
       "      <td>1</td>\n",
       "    </tr>\n",
       "    <tr>\n",
       "      <th>1338130</th>\n",
       "      <td>12098228</td>\n",
       "      <td>00000b722001882066dff9d2da8a775658053ea0</td>\n",
       "      <td>SOCTXQW12A6D4F70AD</td>\n",
       "      <td>1</td>\n",
       "    </tr>\n",
       "    <tr>\n",
       "      <th>1338131</th>\n",
       "      <td>12098228</td>\n",
       "      <td>00000b722001882066dff9d2da8a775658053ea0</td>\n",
       "      <td>SOCZQCY12AC468E40F</td>\n",
       "      <td>1</td>\n",
       "    </tr>\n",
       "    <tr>\n",
       "      <th>1338132</th>\n",
       "      <td>12098229</td>\n",
       "      <td>00000b722001882066dff9d2da8a775658053ea0</td>\n",
       "      <td>SOCTXQW12A6D4F70AD</td>\n",
       "      <td>1</td>\n",
       "    </tr>\n",
       "    <tr>\n",
       "      <th>1338133</th>\n",
       "      <td>12098229</td>\n",
       "      <td>00000b722001882066dff9d2da8a775658053ea0</td>\n",
       "      <td>SOCZQCY12AC468E40F</td>\n",
       "      <td>1</td>\n",
       "    </tr>\n",
       "  </tbody>\n",
       "</table>\n",
       "</div>"
      ],
      "text/plain": [
       "            index                                   user_id  \\\n",
       "1338114  12098218  00000b722001882066dff9d2da8a775658053ea0   \n",
       "1338115  12098218  00000b722001882066dff9d2da8a775658053ea0   \n",
       "1338116  12098219  00000b722001882066dff9d2da8a775658053ea0   \n",
       "1338117  12098219  00000b722001882066dff9d2da8a775658053ea0   \n",
       "1338118  12098222  00000b722001882066dff9d2da8a775658053ea0   \n",
       "1338119  12098222  00000b722001882066dff9d2da8a775658053ea0   \n",
       "1338120  12098223  00000b722001882066dff9d2da8a775658053ea0   \n",
       "1338121  12098223  00000b722001882066dff9d2da8a775658053ea0   \n",
       "1338122  12098224  00000b722001882066dff9d2da8a775658053ea0   \n",
       "1338123  12098224  00000b722001882066dff9d2da8a775658053ea0   \n",
       "1338124  12098225  00000b722001882066dff9d2da8a775658053ea0   \n",
       "1338125  12098225  00000b722001882066dff9d2da8a775658053ea0   \n",
       "1338126  12098226  00000b722001882066dff9d2da8a775658053ea0   \n",
       "1338127  12098226  00000b722001882066dff9d2da8a775658053ea0   \n",
       "1338128  12098227  00000b722001882066dff9d2da8a775658053ea0   \n",
       "1338129  12098227  00000b722001882066dff9d2da8a775658053ea0   \n",
       "1338130  12098228  00000b722001882066dff9d2da8a775658053ea0   \n",
       "1338131  12098228  00000b722001882066dff9d2da8a775658053ea0   \n",
       "1338132  12098229  00000b722001882066dff9d2da8a775658053ea0   \n",
       "1338133  12098229  00000b722001882066dff9d2da8a775658053ea0   \n",
       "\n",
       "                    song_id  num_plays  \n",
       "1338114  SOCTXQW12A6D4F70AD          1  \n",
       "1338115  SOCZQCY12AC468E40F          1  \n",
       "1338116  SOCTXQW12A6D4F70AD          1  \n",
       "1338117  SOCZQCY12AC468E40F          1  \n",
       "1338118  SOCTXQW12A6D4F70AD          1  \n",
       "1338119  SOCZQCY12AC468E40F          1  \n",
       "1338120  SOCTXQW12A6D4F70AD          1  \n",
       "1338121  SOCZQCY12AC468E40F          1  \n",
       "1338122  SOCTXQW12A6D4F70AD          1  \n",
       "1338123  SOCZQCY12AC468E40F          1  \n",
       "1338124  SOCTXQW12A6D4F70AD          1  \n",
       "1338125  SOCZQCY12AC468E40F          1  \n",
       "1338126  SOCTXQW12A6D4F70AD          1  \n",
       "1338127  SOCZQCY12AC468E40F          1  \n",
       "1338128  SOCTXQW12A6D4F70AD          1  \n",
       "1338129  SOCZQCY12AC468E40F          1  \n",
       "1338130  SOCTXQW12A6D4F70AD          1  \n",
       "1338131  SOCZQCY12AC468E40F          1  \n",
       "1338132  SOCTXQW12A6D4F70AD          1  \n",
       "1338133  SOCZQCY12AC468E40F          1  "
      ]
     },
     "execution_count": 114,
     "metadata": {},
     "output_type": "execute_result"
    }
   ],
   "source": [
    "# Let's also check that the train user is not in the prediction_df\n",
    "prediction_df[prediction_df.user_id == \"00000b722001882066dff9d2da8a775658053ea0\"]"
   ]
  },
  {
   "cell_type": "code",
   "execution_count": 115,
   "metadata": {
    "collapsed": true
   },
   "outputs": [],
   "source": [
    "# Here it is. Let's remove it\n",
    "prediction_df = prediction_df[prediction_df.user_id != \"00000b722001882066dff9d2da8a775658053ea0\"]"
   ]
  },
  {
   "cell_type": "code",
   "execution_count": 116,
   "metadata": {},
   "outputs": [
    {
     "data": {
      "text/html": [
       "<div>\n",
       "<style scoped>\n",
       "    .dataframe tbody tr th:only-of-type {\n",
       "        vertical-align: middle;\n",
       "    }\n",
       "\n",
       "    .dataframe tbody tr th {\n",
       "        vertical-align: top;\n",
       "    }\n",
       "\n",
       "    .dataframe thead th {\n",
       "        text-align: right;\n",
       "    }\n",
       "</style>\n",
       "<table border=\"1\" class=\"dataframe\">\n",
       "  <thead>\n",
       "    <tr style=\"text-align: right;\">\n",
       "      <th></th>\n",
       "      <th>index</th>\n",
       "      <th>user_id</th>\n",
       "      <th>song_id</th>\n",
       "      <th>num_plays</th>\n",
       "    </tr>\n",
       "  </thead>\n",
       "  <tbody>\n",
       "  </tbody>\n",
       "</table>\n",
       "</div>"
      ],
      "text/plain": [
       "Empty DataFrame\n",
       "Columns: [index, user_id, song_id, num_plays]\n",
       "Index: []"
      ]
     },
     "execution_count": 116,
     "metadata": {},
     "output_type": "execute_result"
    }
   ],
   "source": [
    "prediction_df[prediction_df.user_id == \"00000b722001882066dff9d2da8a775658053ea0\"]"
   ]
  },
  {
   "cell_type": "code",
   "execution_count": null,
   "metadata": {
    "collapsed": true
   },
   "outputs": [],
   "source": [
    "# It is not there anymore"
   ]
  },
  {
   "cell_type": "code",
   "execution_count": 127,
   "metadata": {},
   "outputs": [],
   "source": [
    "# Let's now find the most played songs in the prediction dataframe\n",
    "predicted_songs = prediction_df.\\\n",
    "                    groupby(['song_id']).\\\n",
    "                    size().\\\n",
    "                    sort_values(ascending = False).\\\n",
    "                    head(20).\\\n",
    "                    to_frame(\"popularity\").\\\n",
    "                    reset_index()"
   ]
  },
  {
   "cell_type": "code",
   "execution_count": 128,
   "metadata": {},
   "outputs": [
    {
     "data": {
      "text/html": [
       "<div>\n",
       "<style scoped>\n",
       "    .dataframe tbody tr th:only-of-type {\n",
       "        vertical-align: middle;\n",
       "    }\n",
       "\n",
       "    .dataframe tbody tr th {\n",
       "        vertical-align: top;\n",
       "    }\n",
       "\n",
       "    .dataframe thead th {\n",
       "        text-align: right;\n",
       "    }\n",
       "</style>\n",
       "<table border=\"1\" class=\"dataframe\">\n",
       "  <thead>\n",
       "    <tr style=\"text-align: right;\">\n",
       "      <th></th>\n",
       "      <th>song_id</th>\n",
       "      <th>popularity</th>\n",
       "    </tr>\n",
       "  </thead>\n",
       "  <tbody>\n",
       "    <tr>\n",
       "      <th>0</th>\n",
       "      <td>SOAUWYT12A81C206F1</td>\n",
       "      <td>28056</td>\n",
       "    </tr>\n",
       "    <tr>\n",
       "      <th>1</th>\n",
       "      <td>SOBONKR12A58A7A7E0</td>\n",
       "      <td>26453</td>\n",
       "    </tr>\n",
       "    <tr>\n",
       "      <th>2</th>\n",
       "      <td>SOEGIYH12A6D4FC0E3</td>\n",
       "      <td>22394</td>\n",
       "    </tr>\n",
       "    <tr>\n",
       "      <th>3</th>\n",
       "      <td>SOSXLTC12AF72A7F54</td>\n",
       "      <td>20894</td>\n",
       "    </tr>\n",
       "    <tr>\n",
       "      <th>4</th>\n",
       "      <td>SOFRQTD12A81C233C0</td>\n",
       "      <td>19347</td>\n",
       "    </tr>\n",
       "  </tbody>\n",
       "</table>\n",
       "</div>"
      ],
      "text/plain": [
       "              song_id  popularity\n",
       "0  SOAUWYT12A81C206F1       28056\n",
       "1  SOBONKR12A58A7A7E0       26453\n",
       "2  SOEGIYH12A6D4FC0E3       22394\n",
       "3  SOSXLTC12AF72A7F54       20894\n",
       "4  SOFRQTD12A81C233C0       19347"
      ]
     },
     "execution_count": 128,
     "metadata": {},
     "output_type": "execute_result"
    }
   ],
   "source": [
    "predicted_songs.head()"
   ]
  },
  {
   "cell_type": "code",
   "execution_count": 129,
   "metadata": {
    "scrolled": false
   },
   "outputs": [
    {
     "data": {
      "text/html": [
       "<div>\n",
       "<style scoped>\n",
       "    .dataframe tbody tr th:only-of-type {\n",
       "        vertical-align: middle;\n",
       "    }\n",
       "\n",
       "    .dataframe tbody tr th {\n",
       "        vertical-align: top;\n",
       "    }\n",
       "\n",
       "    .dataframe thead th {\n",
       "        text-align: right;\n",
       "    }\n",
       "</style>\n",
       "<table border=\"1\" class=\"dataframe\">\n",
       "  <thead>\n",
       "    <tr style=\"text-align: right;\">\n",
       "      <th></th>\n",
       "      <th>artist</th>\n",
       "      <th>title</th>\n",
       "    </tr>\n",
       "  </thead>\n",
       "  <tbody>\n",
       "    <tr>\n",
       "      <th>0</th>\n",
       "      <td>Björk</td>\n",
       "      <td>Undo</td>\n",
       "    </tr>\n",
       "    <tr>\n",
       "      <th>1</th>\n",
       "      <td>Dwight Yoakam</td>\n",
       "      <td>You're The One</td>\n",
       "    </tr>\n",
       "    <tr>\n",
       "      <th>2</th>\n",
       "      <td>Barry Tuckwell/Academy of St Martin-in-the-Fie...</td>\n",
       "      <td>Horn Concerto No. 4 in E flat K495: II. Romanc...</td>\n",
       "    </tr>\n",
       "    <tr>\n",
       "      <th>3</th>\n",
       "      <td>Kings Of Leon</td>\n",
       "      <td>Revelry</td>\n",
       "    </tr>\n",
       "    <tr>\n",
       "      <th>4</th>\n",
       "      <td>Harmonia</td>\n",
       "      <td>Sehr kosmisch</td>\n",
       "    </tr>\n",
       "    <tr>\n",
       "      <th>5</th>\n",
       "      <td>Florence + The Machine</td>\n",
       "      <td>Dog Days Are Over (Radio Edit)</td>\n",
       "    </tr>\n",
       "    <tr>\n",
       "      <th>6</th>\n",
       "      <td>Five Iron Frenzy</td>\n",
       "      <td>Canada</td>\n",
       "    </tr>\n",
       "    <tr>\n",
       "      <th>7</th>\n",
       "      <td>OneRepublic</td>\n",
       "      <td>Secrets</td>\n",
       "    </tr>\n",
       "    <tr>\n",
       "      <th>8</th>\n",
       "      <td>Tub Ring</td>\n",
       "      <td>Invalid</td>\n",
       "    </tr>\n",
       "    <tr>\n",
       "      <th>9</th>\n",
       "      <td>Lonnie Gordon</td>\n",
       "      <td>Catch You Baby (Steve Pitron &amp; Max Sanna Radio...</td>\n",
       "    </tr>\n",
       "    <tr>\n",
       "      <th>10</th>\n",
       "      <td>Alliance Ethnik</td>\n",
       "      <td>Représente</td>\n",
       "    </tr>\n",
       "    <tr>\n",
       "      <th>11</th>\n",
       "      <td>Fisher</td>\n",
       "      <td>Rianna</td>\n",
       "    </tr>\n",
       "    <tr>\n",
       "      <th>12</th>\n",
       "      <td>Train</td>\n",
       "      <td>Hey_ Soul Sister</td>\n",
       "    </tr>\n",
       "    <tr>\n",
       "      <th>13</th>\n",
       "      <td>Charttraxx Karaoke</td>\n",
       "      <td>Fireflies</td>\n",
       "    </tr>\n",
       "    <tr>\n",
       "      <th>14</th>\n",
       "      <td>Alliance Ethnik</td>\n",
       "      <td>Sincerité Et Jalousie</td>\n",
       "    </tr>\n",
       "    <tr>\n",
       "      <th>15</th>\n",
       "      <td>Cosmo Vitelli</td>\n",
       "      <td>Robot Soul (Radio Edit)</td>\n",
       "    </tr>\n",
       "    <tr>\n",
       "      <th>16</th>\n",
       "      <td>Sam Cooke</td>\n",
       "      <td>Ain't Misbehavin</td>\n",
       "    </tr>\n",
       "    <tr>\n",
       "      <th>17</th>\n",
       "      <td>Usher featuring will.i.am</td>\n",
       "      <td>OMG</td>\n",
       "    </tr>\n",
       "    <tr>\n",
       "      <th>18</th>\n",
       "      <td>Train</td>\n",
       "      <td>Marry Me</td>\n",
       "    </tr>\n",
       "    <tr>\n",
       "      <th>19</th>\n",
       "      <td>Kings Of Leon</td>\n",
       "      <td>Use Somebody</td>\n",
       "    </tr>\n",
       "  </tbody>\n",
       "</table>\n",
       "</div>"
      ],
      "text/plain": [
       "                                               artist  \\\n",
       "0                                               Björk   \n",
       "1                                       Dwight Yoakam   \n",
       "2   Barry Tuckwell/Academy of St Martin-in-the-Fie...   \n",
       "3                                       Kings Of Leon   \n",
       "4                                            Harmonia   \n",
       "5                              Florence + The Machine   \n",
       "6                                    Five Iron Frenzy   \n",
       "7                                         OneRepublic   \n",
       "8                                            Tub Ring   \n",
       "9                                       Lonnie Gordon   \n",
       "10                                    Alliance Ethnik   \n",
       "11                                             Fisher   \n",
       "12                                              Train   \n",
       "13                                 Charttraxx Karaoke   \n",
       "14                                    Alliance Ethnik   \n",
       "15                                      Cosmo Vitelli   \n",
       "16                                          Sam Cooke   \n",
       "17                          Usher featuring will.i.am   \n",
       "18                                              Train   \n",
       "19                                      Kings Of Leon   \n",
       "\n",
       "                                                title  \n",
       "0                                                Undo  \n",
       "1                                      You're The One  \n",
       "2   Horn Concerto No. 4 in E flat K495: II. Romanc...  \n",
       "3                                             Revelry  \n",
       "4                                       Sehr kosmisch  \n",
       "5                      Dog Days Are Over (Radio Edit)  \n",
       "6                                              Canada  \n",
       "7                                             Secrets  \n",
       "8                                             Invalid  \n",
       "9   Catch You Baby (Steve Pitron & Max Sanna Radio...  \n",
       "10                                         Représente  \n",
       "11                                             Rianna  \n",
       "12                                   Hey_ Soul Sister  \n",
       "13                                          Fireflies  \n",
       "14                              Sincerité Et Jalousie  \n",
       "15                            Robot Soul (Radio Edit)  \n",
       "16                                   Ain't Misbehavin  \n",
       "17                                                OMG  \n",
       "18                                           Marry Me  \n",
       "19                                       Use Somebody  "
      ]
     },
     "execution_count": 129,
     "metadata": {},
     "output_type": "execute_result"
    }
   ],
   "source": [
    "# Let's see the songs in a human readable way\n",
    "predicted_songs.merge(songs,\n",
    "                left_on = 'song_id',\n",
    "                right_on = 'song_id',\n",
    "                how = 'inner')[['artist', 'title']]"
   ]
  },
  {
   "cell_type": "code",
   "execution_count": 132,
   "metadata": {},
   "outputs": [],
   "source": [
    "# This would be our recommendation. Now we have to score it"
   ]
  },
  {
   "cell_type": "code",
   "execution_count": 133,
   "metadata": {
    "collapsed": true
   },
   "outputs": [],
   "source": [
    "# Let's read the test file with the rest of the songs of the user to see if he has also listened to any of our recommendations"
   ]
  },
  {
   "cell_type": "code",
   "execution_count": 134,
   "metadata": {},
   "outputs": [
    {
     "data": {
      "text/html": [
       "<div>\n",
       "<style scoped>\n",
       "    .dataframe tbody tr th:only-of-type {\n",
       "        vertical-align: middle;\n",
       "    }\n",
       "\n",
       "    .dataframe tbody tr th {\n",
       "        vertical-align: top;\n",
       "    }\n",
       "\n",
       "    .dataframe thead th {\n",
       "        text-align: right;\n",
       "    }\n",
       "</style>\n",
       "<table border=\"1\" class=\"dataframe\">\n",
       "  <thead>\n",
       "    <tr style=\"text-align: right;\">\n",
       "      <th></th>\n",
       "      <th>user_id</th>\n",
       "      <th>song_id</th>\n",
       "      <th>mun_plays</th>\n",
       "    </tr>\n",
       "  </thead>\n",
       "  <tbody>\n",
       "    <tr>\n",
       "      <th>0</th>\n",
       "      <td>00000b722001882066dff9d2da8a775658053ea0</td>\n",
       "      <td>SOCTXQW12A6D4F70AD</td>\n",
       "      <td>1</td>\n",
       "    </tr>\n",
       "    <tr>\n",
       "      <th>1</th>\n",
       "      <td>00000b722001882066dff9d2da8a775658053ea0</td>\n",
       "      <td>SOCZQCY12AC468E40F</td>\n",
       "      <td>1</td>\n",
       "    </tr>\n",
       "  </tbody>\n",
       "</table>\n",
       "</div>"
      ],
      "text/plain": [
       "                                    user_id             song_id mun_plays\n",
       "0  00000b722001882066dff9d2da8a775658053ea0  SOCTXQW12A6D4F70AD         1\n",
       "1  00000b722001882066dff9d2da8a775658053ea0  SOCZQCY12AC468E40F         1"
      ]
     },
     "execution_count": 134,
     "metadata": {},
     "output_type": "execute_result"
    }
   ],
   "source": [
    "datafile = os.path.join(data_root, \"test_listenings.pkl\")\n",
    "test_list = pd.read_pickle(datafile)\n",
    "test_user = pd.DataFrame(test_list, columns=['user_id', 'song_id', 'mun_plays'])\n",
    "test_user.head()"
   ]
  },
  {
   "cell_type": "code",
   "execution_count": 135,
   "metadata": {},
   "outputs": [
    {
     "data": {
      "text/html": [
       "<div>\n",
       "<style scoped>\n",
       "    .dataframe tbody tr th:only-of-type {\n",
       "        vertical-align: middle;\n",
       "    }\n",
       "\n",
       "    .dataframe tbody tr th {\n",
       "        vertical-align: top;\n",
       "    }\n",
       "\n",
       "    .dataframe thead th {\n",
       "        text-align: right;\n",
       "    }\n",
       "</style>\n",
       "<table border=\"1\" class=\"dataframe\">\n",
       "  <thead>\n",
       "    <tr style=\"text-align: right;\">\n",
       "      <th></th>\n",
       "      <th>artist</th>\n",
       "      <th>title</th>\n",
       "    </tr>\n",
       "  </thead>\n",
       "  <tbody>\n",
       "    <tr>\n",
       "      <th>0</th>\n",
       "      <td>Nick Cave &amp; The Bad Seeds</td>\n",
       "      <td>Babe_ You Turn Me On (Paris 2)</td>\n",
       "    </tr>\n",
       "    <tr>\n",
       "      <th>1</th>\n",
       "      <td>Ana Carolina</td>\n",
       "      <td>Ela É Bamba</td>\n",
       "    </tr>\n",
       "  </tbody>\n",
       "</table>\n",
       "</div>"
      ],
      "text/plain": [
       "                      artist                           title\n",
       "0  Nick Cave & The Bad Seeds  Babe_ You Turn Me On (Paris 2)\n",
       "1               Ana Carolina                     Ela É Bamba"
      ]
     },
     "execution_count": 135,
     "metadata": {},
     "output_type": "execute_result"
    }
   ],
   "source": [
    "test_user.merge(songs,\n",
    "                left_on = 'song_id',\n",
    "                right_on = 'song_id',\n",
    "                how = 'inner')[['artist', 'title']]"
   ]
  },
  {
   "cell_type": "code",
   "execution_count": null,
   "metadata": {
    "collapsed": true
   },
   "outputs": [],
   "source": []
  },
  {
   "cell_type": "code",
   "execution_count": null,
   "metadata": {
    "collapsed": true
   },
   "outputs": [],
   "source": []
  }
 ],
 "metadata": {
  "kernelspec": {
   "display_name": "Python 3",
   "language": "python",
   "name": "python3"
  },
  "language_info": {
   "codemirror_mode": {
    "name": "ipython",
    "version": 3
   },
   "file_extension": ".py",
   "mimetype": "text/x-python",
   "name": "python",
   "nbconvert_exporter": "python",
   "pygments_lexer": "ipython3",
   "version": "3.6.3"
  }
 },
 "nbformat": 4,
 "nbformat_minor": 2
}
