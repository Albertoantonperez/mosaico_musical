{
 "cells": [
  {
   "cell_type": "markdown",
   "metadata": {},
   "source": [
    "# Mosaico Musical\n",
    "\n",
    "### Musical recommender by Alberto Antón as a final project for the Master in Data Science of KSchool\n"
   ]
  },
  {
   "cell_type": "code",
   "execution_count": 21,
   "metadata": {
    "collapsed": true
   },
   "outputs": [],
   "source": [
    "%matplotlib inline\n",
    "import matplotlib.pyplot as plt\n",
    "import numpy as np\n",
    "import pandas as pd\n",
    "import io\n",
    "import os\n",
    "import sys\n",
    "import random"
   ]
  },
  {
   "cell_type": "code",
   "execution_count": 14,
   "metadata": {
    "collapsed": true
   },
   "outputs": [],
   "source": [
    "# display results to 3 decimal points, not in scientific notation, and thousands separator\n",
    "pd.set_option('display.float_format', lambda x: '{:,.2f}'.format(x))"
   ]
  },
  {
   "cell_type": "code",
   "execution_count": 22,
   "metadata": {
    "collapsed": true
   },
   "outputs": [],
   "source": [
    "# Set random seed\n",
    "random.seed(666)"
   ]
  },
  {
   "cell_type": "markdown",
   "metadata": {},
   "source": [
    "### Loading data"
   ]
  },
  {
   "cell_type": "code",
   "execution_count": 3,
   "metadata": {
    "collapsed": true
   },
   "outputs": [],
   "source": [
    "data_root = \"data\""
   ]
  },
  {
   "cell_type": "code",
   "execution_count": 5,
   "metadata": {},
   "outputs": [],
   "source": [
    "# Load training dataset\n",
    "columns = ['user_id', 'song_id', 'num_plays']\n",
    "datafile = os.path.join(data_root, \"train_triplets.txt\")\n",
    "\n",
    "data = pd.read_csv(datafile, \n",
    "                   sep='\\t', \n",
    "                   header = None,\n",
    "                   names = columns)"
   ]
  },
  {
   "cell_type": "code",
   "execution_count": 6,
   "metadata": {},
   "outputs": [
    {
     "data": {
      "text/html": [
       "<div>\n",
       "<style scoped>\n",
       "    .dataframe tbody tr th:only-of-type {\n",
       "        vertical-align: middle;\n",
       "    }\n",
       "\n",
       "    .dataframe tbody tr th {\n",
       "        vertical-align: top;\n",
       "    }\n",
       "\n",
       "    .dataframe thead th {\n",
       "        text-align: right;\n",
       "    }\n",
       "</style>\n",
       "<table border=\"1\" class=\"dataframe\">\n",
       "  <thead>\n",
       "    <tr style=\"text-align: right;\">\n",
       "      <th></th>\n",
       "      <th>user_id</th>\n",
       "      <th>song_id</th>\n",
       "      <th>num_plays</th>\n",
       "    </tr>\n",
       "  </thead>\n",
       "  <tbody>\n",
       "    <tr>\n",
       "      <th>0</th>\n",
       "      <td>b80344d063b5ccb3212f76538f3d9e43d87dca9e</td>\n",
       "      <td>SOAKIMP12A8C130995</td>\n",
       "      <td>1</td>\n",
       "    </tr>\n",
       "    <tr>\n",
       "      <th>1</th>\n",
       "      <td>b80344d063b5ccb3212f76538f3d9e43d87dca9e</td>\n",
       "      <td>SOAPDEY12A81C210A9</td>\n",
       "      <td>1</td>\n",
       "    </tr>\n",
       "    <tr>\n",
       "      <th>2</th>\n",
       "      <td>b80344d063b5ccb3212f76538f3d9e43d87dca9e</td>\n",
       "      <td>SOBBMDR12A8C13253B</td>\n",
       "      <td>2</td>\n",
       "    </tr>\n",
       "    <tr>\n",
       "      <th>3</th>\n",
       "      <td>b80344d063b5ccb3212f76538f3d9e43d87dca9e</td>\n",
       "      <td>SOBFNSP12AF72A0E22</td>\n",
       "      <td>1</td>\n",
       "    </tr>\n",
       "    <tr>\n",
       "      <th>4</th>\n",
       "      <td>b80344d063b5ccb3212f76538f3d9e43d87dca9e</td>\n",
       "      <td>SOBFOVM12A58A7D494</td>\n",
       "      <td>1</td>\n",
       "    </tr>\n",
       "  </tbody>\n",
       "</table>\n",
       "</div>"
      ],
      "text/plain": [
       "                                    user_id             song_id  num_plays\n",
       "0  b80344d063b5ccb3212f76538f3d9e43d87dca9e  SOAKIMP12A8C130995          1\n",
       "1  b80344d063b5ccb3212f76538f3d9e43d87dca9e  SOAPDEY12A81C210A9          1\n",
       "2  b80344d063b5ccb3212f76538f3d9e43d87dca9e  SOBBMDR12A8C13253B          2\n",
       "3  b80344d063b5ccb3212f76538f3d9e43d87dca9e  SOBFNSP12AF72A0E22          1\n",
       "4  b80344d063b5ccb3212f76538f3d9e43d87dca9e  SOBFOVM12A58A7D494          1"
      ]
     },
     "execution_count": 6,
     "metadata": {},
     "output_type": "execute_result"
    }
   ],
   "source": [
    "# Let's get a glimpse of the data\n",
    "data.head()"
   ]
  },
  {
   "cell_type": "code",
   "execution_count": 15,
   "metadata": {},
   "outputs": [
    {
     "data": {
      "text/html": [
       "<div>\n",
       "<style scoped>\n",
       "    .dataframe tbody tr th:only-of-type {\n",
       "        vertical-align: middle;\n",
       "    }\n",
       "\n",
       "    .dataframe tbody tr th {\n",
       "        vertical-align: top;\n",
       "    }\n",
       "\n",
       "    .dataframe thead th {\n",
       "        text-align: right;\n",
       "    }\n",
       "</style>\n",
       "<table border=\"1\" class=\"dataframe\">\n",
       "  <thead>\n",
       "    <tr style=\"text-align: right;\">\n",
       "      <th></th>\n",
       "      <th>num_plays</th>\n",
       "    </tr>\n",
       "  </thead>\n",
       "  <tbody>\n",
       "    <tr>\n",
       "      <th>count</th>\n",
       "      <td>48,373,586.00</td>\n",
       "    </tr>\n",
       "    <tr>\n",
       "      <th>mean</th>\n",
       "      <td>2.87</td>\n",
       "    </tr>\n",
       "    <tr>\n",
       "      <th>std</th>\n",
       "      <td>6.44</td>\n",
       "    </tr>\n",
       "    <tr>\n",
       "      <th>min</th>\n",
       "      <td>1.00</td>\n",
       "    </tr>\n",
       "    <tr>\n",
       "      <th>25%</th>\n",
       "      <td>1.00</td>\n",
       "    </tr>\n",
       "    <tr>\n",
       "      <th>50%</th>\n",
       "      <td>1.00</td>\n",
       "    </tr>\n",
       "    <tr>\n",
       "      <th>75%</th>\n",
       "      <td>3.00</td>\n",
       "    </tr>\n",
       "    <tr>\n",
       "      <th>max</th>\n",
       "      <td>9,667.00</td>\n",
       "    </tr>\n",
       "  </tbody>\n",
       "</table>\n",
       "</div>"
      ],
      "text/plain": [
       "          num_plays\n",
       "count 48,373,586.00\n",
       "mean           2.87\n",
       "std            6.44\n",
       "min            1.00\n",
       "25%            1.00\n",
       "50%            1.00\n",
       "75%            3.00\n",
       "max        9,667.00"
      ]
     },
     "execution_count": 15,
     "metadata": {},
     "output_type": "execute_result"
    }
   ],
   "source": [
    "data.describe()"
   ]
  },
  {
   "cell_type": "code",
   "execution_count": 16,
   "metadata": {},
   "outputs": [
    {
     "data": {
      "text/plain": [
       "count   48,373,586.00\n",
       "mean             2.87\n",
       "std              6.44\n",
       "min              1.00\n",
       "25%              1.00\n",
       "50%              1.00\n",
       "75%              3.00\n",
       "max          9,667.00\n",
       "Name: num_plays, dtype: float64"
      ]
     },
     "execution_count": 16,
     "metadata": {},
     "output_type": "execute_result"
    }
   ],
   "source": [
    "# Let's analyze num_plays column a little deeper\n",
    "data.num_plays.describe()"
   ]
  },
  {
   "cell_type": "code",
   "execution_count": 17,
   "metadata": {
    "collapsed": true
   },
   "outputs": [],
   "source": [
    "# most of the songs have been played only one time, and there are very large outliers, \n",
    "# so we will not be using num_plays field."
   ]
  },
  {
   "cell_type": "markdown",
   "metadata": {},
   "source": [
    "We already have the listenings dataset, now let's load the song information dataset"
   ]
  },
  {
   "cell_type": "code",
   "execution_count": 25,
   "metadata": {},
   "outputs": [],
   "source": [
    "columns = [\"foo\", \"song_id\", \"artist\", \"title\"]\n",
    "datafile = os.path.join(data_root, \"unique_tracks.txt\")\n",
    "\n",
    "all_songs = pd.read_csv(datafile, \n",
    "                        header = None,\n",
    "                        sep = '<SEP>',\n",
    "                        names = columns,\n",
    "                        usecols = [\"song_id\", \"artist\", \"title\"],\n",
    "                        encoding =  \"utf-8\",\n",
    "                        engine = \"python\")"
   ]
  },
  {
   "cell_type": "code",
   "execution_count": 26,
   "metadata": {},
   "outputs": [
    {
     "data": {
      "text/html": [
       "<div>\n",
       "<style scoped>\n",
       "    .dataframe tbody tr th:only-of-type {\n",
       "        vertical-align: middle;\n",
       "    }\n",
       "\n",
       "    .dataframe tbody tr th {\n",
       "        vertical-align: top;\n",
       "    }\n",
       "\n",
       "    .dataframe thead th {\n",
       "        text-align: right;\n",
       "    }\n",
       "</style>\n",
       "<table border=\"1\" class=\"dataframe\">\n",
       "  <thead>\n",
       "    <tr style=\"text-align: right;\">\n",
       "      <th></th>\n",
       "      <th>song_id</th>\n",
       "      <th>artist</th>\n",
       "      <th>title</th>\n",
       "    </tr>\n",
       "  </thead>\n",
       "  <tbody>\n",
       "    <tr>\n",
       "      <th>889472</th>\n",
       "      <td>SOHSAMM12AB017DA2A</td>\n",
       "      <td>Antonis Remos</td>\n",
       "      <td>Tha 'Thela Na 'Soun Edo</td>\n",
       "    </tr>\n",
       "    <tr>\n",
       "      <th>723055</th>\n",
       "      <td>SOZJANK12A58A7BE46</td>\n",
       "      <td>Ultravox!</td>\n",
       "      <td>Just For A Moment</td>\n",
       "    </tr>\n",
       "    <tr>\n",
       "      <th>632442</th>\n",
       "      <td>SOAQFRZ12A6D4F893B</td>\n",
       "      <td>Larry McCray</td>\n",
       "      <td>Three Straight Days Of Rain</td>\n",
       "    </tr>\n",
       "    <tr>\n",
       "      <th>294544</th>\n",
       "      <td>SOIGFNZ12AB01807A9</td>\n",
       "      <td>Katatonia</td>\n",
       "      <td>The Longest Year</td>\n",
       "    </tr>\n",
       "    <tr>\n",
       "      <th>544428</th>\n",
       "      <td>SOHWGID12D02199F61</td>\n",
       "      <td>T-Pain featuring R. Kelly_ Pimp C (of UGK)_ To...</td>\n",
       "      <td>I'm N Luv (Wit A Stripper) 2 - \"Tha Remix\" fea...</td>\n",
       "    </tr>\n",
       "    <tr>\n",
       "      <th>740282</th>\n",
       "      <td>SOYBSLG12A6D4F4A8B</td>\n",
       "      <td>Sonya Kitchell</td>\n",
       "      <td>Let Me Go</td>\n",
       "    </tr>\n",
       "    <tr>\n",
       "      <th>732546</th>\n",
       "      <td>SOWFCKH12A8C1364E8</td>\n",
       "      <td>tobyMac</td>\n",
       "      <td>In The Light</td>\n",
       "    </tr>\n",
       "    <tr>\n",
       "      <th>554159</th>\n",
       "      <td>SOXESDD12A8C133A94</td>\n",
       "      <td>Juliet Jonesin Sydan</td>\n",
       "      <td>Uskonto_ laskento_ lukeminen_ laulu</td>\n",
       "    </tr>\n",
       "    <tr>\n",
       "      <th>845058</th>\n",
       "      <td>SOTNYZN12A81C20FFC</td>\n",
       "      <td>Blue Magic</td>\n",
       "      <td>Answer To My Prayer (LP Version)</td>\n",
       "    </tr>\n",
       "    <tr>\n",
       "      <th>2500</th>\n",
       "      <td>SOLBXJC12A8C1406FD</td>\n",
       "      <td>Renato Russo</td>\n",
       "      <td>Cathedral Song</td>\n",
       "    </tr>\n",
       "    <tr>\n",
       "      <th>162748</th>\n",
       "      <td>SOFEGAC12A8C14016C</td>\n",
       "      <td>Marty Casey &amp; Lovehammers</td>\n",
       "      <td>Straight as an Arrow</td>\n",
       "    </tr>\n",
       "    <tr>\n",
       "      <th>576453</th>\n",
       "      <td>SOHUHBK12AC95F0469</td>\n",
       "      <td>Les Brown</td>\n",
       "      <td>I've Got My Love to Keep Me Warm</td>\n",
       "    </tr>\n",
       "    <tr>\n",
       "      <th>76158</th>\n",
       "      <td>SOKDOZU12AB0182C60</td>\n",
       "      <td>Erkki Junkkarinen</td>\n",
       "      <td>Kun paljon antaa - Soy Rebelde -</td>\n",
       "    </tr>\n",
       "    <tr>\n",
       "      <th>688352</th>\n",
       "      <td>SOTZTIB12A8AE4817B</td>\n",
       "      <td>Piero Piccioni</td>\n",
       "      <td>Detours</td>\n",
       "    </tr>\n",
       "    <tr>\n",
       "      <th>884928</th>\n",
       "      <td>SODJSOR12A81C220ED</td>\n",
       "      <td>Zero Le Crêche</td>\n",
       "      <td>The Game (Forever Now)</td>\n",
       "    </tr>\n",
       "    <tr>\n",
       "      <th>980342</th>\n",
       "      <td>SOQLACZ12A8AE47CF5</td>\n",
       "      <td>Scott Joplin</td>\n",
       "      <td>Cascades</td>\n",
       "    </tr>\n",
       "    <tr>\n",
       "      <th>269114</th>\n",
       "      <td>SOROJER12A8C140911</td>\n",
       "      <td>Foo Fighters</td>\n",
       "      <td>Everlong</td>\n",
       "    </tr>\n",
       "    <tr>\n",
       "      <th>990124</th>\n",
       "      <td>SOFUSOE12A58A7C717</td>\n",
       "      <td>The Film Studio Orchestra</td>\n",
       "      <td>One Silver Dollar [Un Dollaro Bucato] (Album V...</td>\n",
       "    </tr>\n",
       "    <tr>\n",
       "      <th>269253</th>\n",
       "      <td>SOBDZFA12A58A7D36B</td>\n",
       "      <td>Elsa Garcia</td>\n",
       "      <td>Se Esta Volviendo Loco</td>\n",
       "    </tr>\n",
       "    <tr>\n",
       "      <th>928476</th>\n",
       "      <td>SOKLYSQ12A67ADC184</td>\n",
       "      <td>Ghosts</td>\n",
       "      <td>Hold On (Single Version)</td>\n",
       "    </tr>\n",
       "  </tbody>\n",
       "</table>\n",
       "</div>"
      ],
      "text/plain": [
       "                   song_id                                             artist  \\\n",
       "889472  SOHSAMM12AB017DA2A                                      Antonis Remos   \n",
       "723055  SOZJANK12A58A7BE46                                          Ultravox!   \n",
       "632442  SOAQFRZ12A6D4F893B                                       Larry McCray   \n",
       "294544  SOIGFNZ12AB01807A9                                          Katatonia   \n",
       "544428  SOHWGID12D02199F61  T-Pain featuring R. Kelly_ Pimp C (of UGK)_ To...   \n",
       "740282  SOYBSLG12A6D4F4A8B                                     Sonya Kitchell   \n",
       "732546  SOWFCKH12A8C1364E8                                            tobyMac   \n",
       "554159  SOXESDD12A8C133A94                               Juliet Jonesin Sydan   \n",
       "845058  SOTNYZN12A81C20FFC                                         Blue Magic   \n",
       "2500    SOLBXJC12A8C1406FD                                       Renato Russo   \n",
       "162748  SOFEGAC12A8C14016C                          Marty Casey & Lovehammers   \n",
       "576453  SOHUHBK12AC95F0469                                          Les Brown   \n",
       "76158   SOKDOZU12AB0182C60                                  Erkki Junkkarinen   \n",
       "688352  SOTZTIB12A8AE4817B                                     Piero Piccioni   \n",
       "884928  SODJSOR12A81C220ED                                     Zero Le Crêche   \n",
       "980342  SOQLACZ12A8AE47CF5                                       Scott Joplin   \n",
       "269114  SOROJER12A8C140911                                       Foo Fighters   \n",
       "990124  SOFUSOE12A58A7C717                          The Film Studio Orchestra   \n",
       "269253  SOBDZFA12A58A7D36B                                        Elsa Garcia   \n",
       "928476  SOKLYSQ12A67ADC184                                             Ghosts   \n",
       "\n",
       "                                                    title  \n",
       "889472                            Tha 'Thela Na 'Soun Edo  \n",
       "723055                                  Just For A Moment  \n",
       "632442                        Three Straight Days Of Rain  \n",
       "294544                                   The Longest Year  \n",
       "544428  I'm N Luv (Wit A Stripper) 2 - \"Tha Remix\" fea...  \n",
       "740282                                          Let Me Go  \n",
       "732546                                       In The Light  \n",
       "554159                Uskonto_ laskento_ lukeminen_ laulu  \n",
       "845058                   Answer To My Prayer (LP Version)  \n",
       "2500                                       Cathedral Song  \n",
       "162748                               Straight as an Arrow  \n",
       "576453                   I've Got My Love to Keep Me Warm  \n",
       "76158                    Kun paljon antaa - Soy Rebelde -  \n",
       "688352                                            Detours  \n",
       "884928                             The Game (Forever Now)  \n",
       "980342                                           Cascades  \n",
       "269114                                           Everlong  \n",
       "990124  One Silver Dollar [Un Dollaro Bucato] (Album V...  \n",
       "269253                             Se Esta Volviendo Loco  \n",
       "928476                           Hold On (Single Version)  "
      ]
     },
     "execution_count": 26,
     "metadata": {},
     "output_type": "execute_result"
    }
   ],
   "source": [
    "all_songs.sample(20)"
   ]
  },
  {
   "cell_type": "code",
   "execution_count": 27,
   "metadata": {},
   "outputs": [
    {
     "data": {
      "text/html": [
       "<div>\n",
       "<style scoped>\n",
       "    .dataframe tbody tr th:only-of-type {\n",
       "        vertical-align: middle;\n",
       "    }\n",
       "\n",
       "    .dataframe tbody tr th {\n",
       "        vertical-align: top;\n",
       "    }\n",
       "\n",
       "    .dataframe thead th {\n",
       "        text-align: right;\n",
       "    }\n",
       "</style>\n",
       "<table border=\"1\" class=\"dataframe\">\n",
       "  <thead>\n",
       "    <tr style=\"text-align: right;\">\n",
       "      <th></th>\n",
       "      <th>song_id</th>\n",
       "      <th>artist</th>\n",
       "      <th>title</th>\n",
       "    </tr>\n",
       "  </thead>\n",
       "  <tbody>\n",
       "    <tr>\n",
       "      <th>count</th>\n",
       "      <td>1000000</td>\n",
       "      <td>1000000</td>\n",
       "      <td>999985</td>\n",
       "    </tr>\n",
       "    <tr>\n",
       "      <th>unique</th>\n",
       "      <td>999056</td>\n",
       "      <td>72665</td>\n",
       "      <td>702000</td>\n",
       "    </tr>\n",
       "    <tr>\n",
       "      <th>top</th>\n",
       "      <td>SONBEKD12AB01894DC</td>\n",
       "      <td>Michael Jackson</td>\n",
       "      <td>Intro</td>\n",
       "    </tr>\n",
       "    <tr>\n",
       "      <th>freq</th>\n",
       "      <td>3</td>\n",
       "      <td>194</td>\n",
       "      <td>1511</td>\n",
       "    </tr>\n",
       "  </tbody>\n",
       "</table>\n",
       "</div>"
      ],
      "text/plain": [
       "                   song_id           artist   title\n",
       "count              1000000          1000000  999985\n",
       "unique              999056            72665  702000\n",
       "top     SONBEKD12AB01894DC  Michael Jackson   Intro\n",
       "freq                     3              194    1511"
      ]
     },
     "execution_count": 27,
     "metadata": {},
     "output_type": "execute_result"
    }
   ],
   "source": [
    "all_songs.describe()"
   ]
  },
  {
   "cell_type": "code",
   "execution_count": 28,
   "metadata": {},
   "outputs": [
    {
     "data": {
      "text/plain": [
       "999056"
      ]
     },
     "execution_count": 28,
     "metadata": {},
     "output_type": "execute_result"
    }
   ],
   "source": [
    "# Let's see the unique number of songs\n",
    "all_songs.song_id.unique().shape[0]"
   ]
  },
  {
   "cell_type": "code",
   "execution_count": 29,
   "metadata": {},
   "outputs": [
    {
     "data": {
      "text/plain": [
       "384546"
      ]
     },
     "execution_count": 29,
     "metadata": {},
     "output_type": "execute_result"
    }
   ],
   "source": [
    "# There is information of about one million songs. Let's see hoy many of these songs\n",
    "# are in the training dataset\n",
    "data.song_id.unique().shape[0]"
   ]
  },
  {
   "cell_type": "markdown",
   "metadata": {},
   "source": [
    "We don't need information for so many songs, so let's create a dataframe with information only on the songs that are in the training dataframe."
   ]
  },
  {
   "cell_type": "code",
   "execution_count": 30,
   "metadata": {},
   "outputs": [
    {
     "name": "stdout",
     "output_type": "stream",
     "text": [
      "<class 'pandas.core.frame.DataFrame'>\n",
      "RangeIndex: 48373586 entries, 0 to 48373585\n",
      "Data columns (total 3 columns):\n",
      "user_id      object\n",
      "song_id      object\n",
      "num_plays    int64\n",
      "dtypes: int64(1), object(2)\n",
      "memory usage: 1.1+ GB\n"
     ]
    }
   ],
   "source": [
    "data.info()"
   ]
  },
  {
   "cell_type": "code",
   "execution_count": null,
   "metadata": {
    "collapsed": true
   },
   "outputs": [],
   "source": []
  }
 ],
 "metadata": {
  "kernelspec": {
   "display_name": "Python 3",
   "language": "python",
   "name": "python3"
  },
  "language_info": {
   "codemirror_mode": {
    "name": "ipython",
    "version": 3
   },
   "file_extension": ".py",
   "mimetype": "text/x-python",
   "name": "python",
   "nbconvert_exporter": "python",
   "pygments_lexer": "ipython3",
   "version": "3.6.3"
  }
 },
 "nbformat": 4,
 "nbformat_minor": 2
}
