{
 "cells": [
  {
   "cell_type": "markdown",
   "metadata": {},
   "source": [
    "# Mosaico Musical\n",
    "\n",
    "### Musical recommender by Alberto Antón as a final project for the Master in Data Science of KSchool\n",
    "\n"
   ]
  },
  {
   "cell_type": "code",
   "execution_count": 1,
   "metadata": {
    "collapsed": true
   },
   "outputs": [],
   "source": [
    "%matplotlib inline\n",
    "import matplotlib.pyplot as plt\n",
    "import numpy as np\n",
    "import pandas as pd\n",
    "import io\n",
    "import os\n",
    "import sys"
   ]
  },
  {
   "cell_type": "code",
   "execution_count": 2,
   "metadata": {
    "collapsed": true
   },
   "outputs": [],
   "source": [
    "# display results to 3 decimal points, not in scientific notation\n",
    "pd.set_option('display.float_format', lambda x: '%.3f' % x)"
   ]
  },
  {
   "cell_type": "markdown",
   "metadata": {},
   "source": [
    "### Load data"
   ]
  },
  {
   "cell_type": "code",
   "execution_count": 3,
   "metadata": {
    "collapsed": true
   },
   "outputs": [],
   "source": [
    "data_root = \"data\""
   ]
  },
  {
   "cell_type": "code",
   "execution_count": 18,
   "metadata": {},
   "outputs": [
    {
     "name": "stdout",
     "output_type": "stream",
     "text": [
      "data\\train_triplets.txt\n"
     ]
    },
    {
     "data": {
      "text/html": [
       "<div>\n",
       "<style>\n",
       "    .dataframe thead tr:only-child th {\n",
       "        text-align: right;\n",
       "    }\n",
       "\n",
       "    .dataframe thead th {\n",
       "        text-align: left;\n",
       "    }\n",
       "\n",
       "    .dataframe tbody tr th {\n",
       "        vertical-align: top;\n",
       "    }\n",
       "</style>\n",
       "<table border=\"1\" class=\"dataframe\">\n",
       "  <thead>\n",
       "    <tr style=\"text-align: right;\">\n",
       "      <th></th>\n",
       "      <th>user_id</th>\n",
       "      <th>song_id</th>\n",
       "      <th>num_plays</th>\n",
       "    </tr>\n",
       "  </thead>\n",
       "  <tbody>\n",
       "    <tr>\n",
       "      <th>0</th>\n",
       "      <td>b80344d063b5ccb3212f76538f3d9e43d87dca9e</td>\n",
       "      <td>SOAKIMP12A8C130995</td>\n",
       "      <td>1</td>\n",
       "    </tr>\n",
       "    <tr>\n",
       "      <th>1</th>\n",
       "      <td>b80344d063b5ccb3212f76538f3d9e43d87dca9e</td>\n",
       "      <td>SOAPDEY12A81C210A9</td>\n",
       "      <td>1</td>\n",
       "    </tr>\n",
       "    <tr>\n",
       "      <th>2</th>\n",
       "      <td>b80344d063b5ccb3212f76538f3d9e43d87dca9e</td>\n",
       "      <td>SOBBMDR12A8C13253B</td>\n",
       "      <td>2</td>\n",
       "    </tr>\n",
       "    <tr>\n",
       "      <th>3</th>\n",
       "      <td>b80344d063b5ccb3212f76538f3d9e43d87dca9e</td>\n",
       "      <td>SOBFNSP12AF72A0E22</td>\n",
       "      <td>1</td>\n",
       "    </tr>\n",
       "    <tr>\n",
       "      <th>4</th>\n",
       "      <td>b80344d063b5ccb3212f76538f3d9e43d87dca9e</td>\n",
       "      <td>SOBFOVM12A58A7D494</td>\n",
       "      <td>1</td>\n",
       "    </tr>\n",
       "  </tbody>\n",
       "</table>\n",
       "</div>"
      ],
      "text/plain": [
       "                                    user_id             song_id  num_plays\n",
       "0  b80344d063b5ccb3212f76538f3d9e43d87dca9e  SOAKIMP12A8C130995          1\n",
       "1  b80344d063b5ccb3212f76538f3d9e43d87dca9e  SOAPDEY12A81C210A9          1\n",
       "2  b80344d063b5ccb3212f76538f3d9e43d87dca9e  SOBBMDR12A8C13253B          2\n",
       "3  b80344d063b5ccb3212f76538f3d9e43d87dca9e  SOBFNSP12AF72A0E22          1\n",
       "4  b80344d063b5ccb3212f76538f3d9e43d87dca9e  SOBFOVM12A58A7D494          1"
      ]
     },
     "execution_count": 18,
     "metadata": {},
     "output_type": "execute_result"
    }
   ],
   "source": [
    "columns = ['user_id', 'song_id', 'num_plays']\n",
    "datafile = os.path.join(data_root, \"train_triplets.txt\")\n",
    "print(datafile)\n",
    "data = pd.read_csv(datafile, \n",
    "                   sep='\\t', \n",
    "                   header = None,\n",
    "                   names = columns)\n",
    "data.head()"
   ]
  },
  {
   "cell_type": "code",
   "execution_count": 5,
   "metadata": {},
   "outputs": [
    {
     "name": "stdout",
     "output_type": "stream",
     "text": [
      "8707245584\n"
     ]
    }
   ],
   "source": [
    "# 8GB of data, but not all of them are loaded in memory at once\n",
    "print (sys.getsizeof(data))"
   ]
  },
  {
   "cell_type": "code",
   "execution_count": 6,
   "metadata": {
    "collapsed": true
   },
   "outputs": [],
   "source": [
    "# Read songs dataset"
   ]
  },
  {
   "cell_type": "code",
   "execution_count": 37,
   "metadata": {},
   "outputs": [
    {
     "data": {
      "text/html": [
       "<div>\n",
       "<style>\n",
       "    .dataframe thead tr:only-child th {\n",
       "        text-align: right;\n",
       "    }\n",
       "\n",
       "    .dataframe thead th {\n",
       "        text-align: left;\n",
       "    }\n",
       "\n",
       "    .dataframe tbody tr th {\n",
       "        vertical-align: top;\n",
       "    }\n",
       "</style>\n",
       "<table border=\"1\" class=\"dataframe\">\n",
       "  <thead>\n",
       "    <tr style=\"text-align: right;\">\n",
       "      <th></th>\n",
       "      <th>song_id</th>\n",
       "      <th>artist</th>\n",
       "      <th>title</th>\n",
       "    </tr>\n",
       "  </thead>\n",
       "  <tbody>\n",
       "    <tr>\n",
       "      <th>0</th>\n",
       "      <td>SOQMMHC12AB0180CB8</td>\n",
       "      <td>Faster Pussy cat</td>\n",
       "      <td>Silent Night</td>\n",
       "    </tr>\n",
       "    <tr>\n",
       "      <th>1</th>\n",
       "      <td>SOVFVAK12A8C1350D9</td>\n",
       "      <td>Karkkiautomaatti</td>\n",
       "      <td>Tanssi vaan</td>\n",
       "    </tr>\n",
       "    <tr>\n",
       "      <th>2</th>\n",
       "      <td>SOGTUKN12AB017F4F1</td>\n",
       "      <td>Hudson Mohawke</td>\n",
       "      <td>No One Could Ever</td>\n",
       "    </tr>\n",
       "    <tr>\n",
       "      <th>3</th>\n",
       "      <td>SOBNYVR12A8C13558C</td>\n",
       "      <td>Yerba Brava</td>\n",
       "      <td>Si Vos Querés</td>\n",
       "    </tr>\n",
       "    <tr>\n",
       "      <th>4</th>\n",
       "      <td>SOHSBXH12A8C13B0DF</td>\n",
       "      <td>Der Mystic</td>\n",
       "      <td>Tangle Of Aspens</td>\n",
       "    </tr>\n",
       "  </tbody>\n",
       "</table>\n",
       "</div>"
      ],
      "text/plain": [
       "              song_id            artist              title\n",
       "0  SOQMMHC12AB0180CB8  Faster Pussy cat       Silent Night\n",
       "1  SOVFVAK12A8C1350D9  Karkkiautomaatti        Tanssi vaan\n",
       "2  SOGTUKN12AB017F4F1    Hudson Mohawke  No One Could Ever\n",
       "3  SOBNYVR12A8C13558C       Yerba Brava      Si Vos Querés\n",
       "4  SOHSBXH12A8C13B0DF        Der Mystic   Tangle Of Aspens"
      ]
     },
     "execution_count": 37,
     "metadata": {},
     "output_type": "execute_result"
    }
   ],
   "source": [
    "columns = [\"foo\", \"song_id\", \"artist\", \"title\"]\n",
    "datafile = os.path.join(data_root, \"unique_tracks.txt\")\n",
    "all_songs = pd.read_csv(datafile, \n",
    "                        header = None,\n",
    "                        sep = '<SEP>',\n",
    "                        names = columns,\n",
    "                        usecols = [\"song_id\", \"artist\", \"title\"],\n",
    "                        encoding =  \"utf-8\",\n",
    "                        engine = \"python\")\n",
    "\n",
    "all_songs.head()"
   ]
  },
  {
   "cell_type": "code",
   "execution_count": 26,
   "metadata": {},
   "outputs": [
    {
     "data": {
      "text/plain": [
       "384546"
      ]
     },
     "execution_count": 26,
     "metadata": {},
     "output_type": "execute_result"
    }
   ],
   "source": [
    "# Number of songs in data\n",
    "data.song_id.unique().shape[0]"
   ]
  },
  {
   "cell_type": "code",
   "execution_count": 27,
   "metadata": {},
   "outputs": [
    {
     "data": {
      "text/plain": [
       "999056"
      ]
     },
     "execution_count": 27,
     "metadata": {},
     "output_type": "execute_result"
    }
   ],
   "source": [
    "# Number of songs in all_songs\n",
    "all_songs.song_id.unique().shape[0]"
   ]
  },
  {
   "cell_type": "code",
   "execution_count": 39,
   "metadata": {},
   "outputs": [
    {
     "data": {
      "text/html": [
       "<div>\n",
       "<style>\n",
       "    .dataframe thead tr:only-child th {\n",
       "        text-align: right;\n",
       "    }\n",
       "\n",
       "    .dataframe thead th {\n",
       "        text-align: left;\n",
       "    }\n",
       "\n",
       "    .dataframe tbody tr th {\n",
       "        vertical-align: top;\n",
       "    }\n",
       "</style>\n",
       "<table border=\"1\" class=\"dataframe\">\n",
       "  <thead>\n",
       "    <tr style=\"text-align: right;\">\n",
       "      <th></th>\n",
       "      <th>song_id</th>\n",
       "      <th>artist</th>\n",
       "      <th>title</th>\n",
       "    </tr>\n",
       "  </thead>\n",
       "  <tbody>\n",
       "    <tr>\n",
       "      <th>count</th>\n",
       "      <td>1000000</td>\n",
       "      <td>1000000</td>\n",
       "      <td>999985</td>\n",
       "    </tr>\n",
       "    <tr>\n",
       "      <th>unique</th>\n",
       "      <td>999056</td>\n",
       "      <td>72665</td>\n",
       "      <td>702000</td>\n",
       "    </tr>\n",
       "    <tr>\n",
       "      <th>top</th>\n",
       "      <td>SOUYQYY12AF72A000F</td>\n",
       "      <td>Michael Jackson</td>\n",
       "      <td>Intro</td>\n",
       "    </tr>\n",
       "    <tr>\n",
       "      <th>freq</th>\n",
       "      <td>3</td>\n",
       "      <td>194</td>\n",
       "      <td>1511</td>\n",
       "    </tr>\n",
       "  </tbody>\n",
       "</table>\n",
       "</div>"
      ],
      "text/plain": [
       "                   song_id           artist   title\n",
       "count              1000000          1000000  999985\n",
       "unique              999056            72665  702000\n",
       "top     SOUYQYY12AF72A000F  Michael Jackson   Intro\n",
       "freq                     3              194    1511"
      ]
     },
     "execution_count": 39,
     "metadata": {},
     "output_type": "execute_result"
    }
   ],
   "source": [
    "all_songs.describe()"
   ]
  },
  {
   "cell_type": "code",
   "execution_count": 40,
   "metadata": {},
   "outputs": [],
   "source": [
    "# Let's keep only the songs that match\n",
    "\n",
    "songs = all_songs.merge(data,\n",
    "                       left_on = \"song_id\",\n",
    "                       right_on = \"song_id\",\n",
    "                       how = \"inner\")[[\"song_id\", \"artist\", \"title\"]]\n",
    "\n",
    "# airport_freq.merge(airports[airports.ident == 'KLAX'][['id']], \n",
    "#                    left_on='airport_ref', \n",
    "#                    right_on='id', \n",
    "#                    how='inner')[['airport_ident', 'type', 'description', 'frequency_mhz']]"
   ]
  },
  {
   "cell_type": "code",
   "execution_count": 29,
   "metadata": {},
   "outputs": [
    {
     "data": {
      "text/plain": [
       "384546"
      ]
     },
     "execution_count": 29,
     "metadata": {},
     "output_type": "execute_result"
    }
   ],
   "source": [
    "# Number of songs in songs\n",
    "songs.song_id.unique().shape[0]"
   ]
  },
  {
   "cell_type": "code",
   "execution_count": 41,
   "metadata": {},
   "outputs": [
    {
     "data": {
      "text/html": [
       "<div>\n",
       "<style>\n",
       "    .dataframe thead tr:only-child th {\n",
       "        text-align: right;\n",
       "    }\n",
       "\n",
       "    .dataframe thead th {\n",
       "        text-align: left;\n",
       "    }\n",
       "\n",
       "    .dataframe tbody tr th {\n",
       "        vertical-align: top;\n",
       "    }\n",
       "</style>\n",
       "<table border=\"1\" class=\"dataframe\">\n",
       "  <thead>\n",
       "    <tr style=\"text-align: right;\">\n",
       "      <th></th>\n",
       "      <th>song_id</th>\n",
       "      <th>artist</th>\n",
       "      <th>title</th>\n",
       "    </tr>\n",
       "  </thead>\n",
       "  <tbody>\n",
       "    <tr>\n",
       "      <th>count</th>\n",
       "      <td>49664528</td>\n",
       "      <td>49664528</td>\n",
       "      <td>49664463</td>\n",
       "    </tr>\n",
       "    <tr>\n",
       "      <th>unique</th>\n",
       "      <td>384546</td>\n",
       "      <td>42062</td>\n",
       "      <td>306785</td>\n",
       "    </tr>\n",
       "    <tr>\n",
       "      <th>top</th>\n",
       "      <td>SOFRQTD12A81C233C0</td>\n",
       "      <td>Coldplay</td>\n",
       "      <td>Sehr kosmisch</td>\n",
       "    </tr>\n",
       "    <tr>\n",
       "      <th>freq</th>\n",
       "      <td>110479</td>\n",
       "      <td>455816</td>\n",
       "      <td>110479</td>\n",
       "    </tr>\n",
       "  </tbody>\n",
       "</table>\n",
       "</div>"
      ],
      "text/plain": [
       "                   song_id    artist          title\n",
       "count             49664528  49664528       49664463\n",
       "unique              384546     42062         306785\n",
       "top     SOFRQTD12A81C233C0  Coldplay  Sehr kosmisch\n",
       "freq                110479    455816         110479"
      ]
     },
     "execution_count": 41,
     "metadata": {},
     "output_type": "execute_result"
    }
   ],
   "source": [
    "songs.describe()"
   ]
  },
  {
   "cell_type": "code",
   "execution_count": null,
   "metadata": {
    "collapsed": true
   },
   "outputs": [],
   "source": [
    "# Removing duplicates from songs\n",
    "songs.drop_duplicates(subset=inplace=True)"
   ]
  },
  {
   "cell_type": "code",
   "execution_count": 34,
   "metadata": {},
   "outputs": [
    {
     "data": {
      "text/html": [
       "<div>\n",
       "<style>\n",
       "    .dataframe thead tr:only-child th {\n",
       "        text-align: right;\n",
       "    }\n",
       "\n",
       "    .dataframe thead th {\n",
       "        text-align: left;\n",
       "    }\n",
       "\n",
       "    .dataframe tbody tr th {\n",
       "        vertical-align: top;\n",
       "    }\n",
       "</style>\n",
       "<table border=\"1\" class=\"dataframe\">\n",
       "  <thead>\n",
       "    <tr style=\"text-align: right;\">\n",
       "      <th></th>\n",
       "      <th>song_id</th>\n",
       "      <th>artist</th>\n",
       "      <th>title</th>\n",
       "    </tr>\n",
       "  </thead>\n",
       "  <tbody>\n",
       "    <tr>\n",
       "      <th>0</th>\n",
       "      <td>SOQMMHC12AB0180CB8</td>\n",
       "      <td>Faster Pussy cat</td>\n",
       "      <td>Silent Night</td>\n",
       "    </tr>\n",
       "    <tr>\n",
       "      <th>1</th>\n",
       "      <td>SOQMMHC12AB0180CB8</td>\n",
       "      <td>Faster Pussy cat</td>\n",
       "      <td>Silent Night</td>\n",
       "    </tr>\n",
       "    <tr>\n",
       "      <th>2</th>\n",
       "      <td>SOQMMHC12AB0180CB8</td>\n",
       "      <td>Faster Pussy cat</td>\n",
       "      <td>Silent Night</td>\n",
       "    </tr>\n",
       "    <tr>\n",
       "      <th>3</th>\n",
       "      <td>SOBNYVR12A8C13558C</td>\n",
       "      <td>Yerba Brava</td>\n",
       "      <td>Si Vos Querés</td>\n",
       "    </tr>\n",
       "    <tr>\n",
       "      <th>4</th>\n",
       "      <td>SOBNYVR12A8C13558C</td>\n",
       "      <td>Yerba Brava</td>\n",
       "      <td>Si Vos Querés</td>\n",
       "    </tr>\n",
       "  </tbody>\n",
       "</table>\n",
       "</div>"
      ],
      "text/plain": [
       "              song_id            artist          title\n",
       "0  SOQMMHC12AB0180CB8  Faster Pussy cat   Silent Night\n",
       "1  SOQMMHC12AB0180CB8  Faster Pussy cat   Silent Night\n",
       "2  SOQMMHC12AB0180CB8  Faster Pussy cat   Silent Night\n",
       "3  SOBNYVR12A8C13558C       Yerba Brava  Si Vos Querés\n",
       "4  SOBNYVR12A8C13558C       Yerba Brava  Si Vos Querés"
      ]
     },
     "execution_count": 34,
     "metadata": {},
     "output_type": "execute_result"
    }
   ],
   "source": [
    "songs.head()"
   ]
  },
  {
   "cell_type": "code",
   "execution_count": 32,
   "metadata": {},
   "outputs": [],
   "source": [
    "# Remove all_songs from memory\n",
    "all_songs = None"
   ]
  },
  {
   "cell_type": "code",
   "execution_count": 33,
   "metadata": {
    "collapsed": true
   },
   "outputs": [],
   "source": [
    "# Funcion that returns the artis and title of a song_id\n",
    "def which_song(sid):\n",
    "    return songs[songs.song_id == sid]"
   ]
  },
  {
   "cell_type": "code",
   "execution_count": 35,
   "metadata": {},
   "outputs": [
    {
     "data": {
      "text/html": [
       "<div>\n",
       "<style>\n",
       "    .dataframe thead tr:only-child th {\n",
       "        text-align: right;\n",
       "    }\n",
       "\n",
       "    .dataframe thead th {\n",
       "        text-align: left;\n",
       "    }\n",
       "\n",
       "    .dataframe tbody tr th {\n",
       "        vertical-align: top;\n",
       "    }\n",
       "</style>\n",
       "<table border=\"1\" class=\"dataframe\">\n",
       "  <thead>\n",
       "    <tr style=\"text-align: right;\">\n",
       "      <th></th>\n",
       "      <th>song_id</th>\n",
       "      <th>artist</th>\n",
       "      <th>title</th>\n",
       "    </tr>\n",
       "  </thead>\n",
       "  <tbody>\n",
       "  </tbody>\n",
       "</table>\n",
       "</div>"
      ],
      "text/plain": [
       "Empty DataFrame\n",
       "Columns: [song_id, artist, title]\n",
       "Index: []"
      ]
     },
     "execution_count": 35,
     "metadata": {},
     "output_type": "execute_result"
    }
   ],
   "source": [
    "which_song(\"SOVFVAK12A8C1350D9\")"
   ]
  },
  {
   "cell_type": "markdown",
   "metadata": {},
   "source": [
    "As this dataset is part of a closed competition, there is no test set, so we have to create it from the train set."
   ]
  },
  {
   "cell_type": "code",
   "execution_count": 14,
   "metadata": {
    "collapsed": true
   },
   "outputs": [],
   "source": [
    "## TODO Separate sets\n",
    "# Take a look at how C:\\Users\\laanton\\Documents\\Master_en_Data_Science\\17.Recommendation_Systems\\ml-100k\\allbut.pl makes them\n",
    "# To know how to split hte sets, let's find out the average number of listens per user\n",
    "\n",
    "\n"
   ]
  },
  {
   "cell_type": "code",
   "execution_count": 48,
   "metadata": {},
   "outputs": [
    {
     "data": {
      "text/plain": [
       "0     b80344d063b5ccb3212f76538f3d9e43d87dca9e\n",
       "1     b80344d063b5ccb3212f76538f3d9e43d87dca9e\n",
       "2     b80344d063b5ccb3212f76538f3d9e43d87dca9e\n",
       "3     b80344d063b5ccb3212f76538f3d9e43d87dca9e\n",
       "4     b80344d063b5ccb3212f76538f3d9e43d87dca9e\n",
       "5     b80344d063b5ccb3212f76538f3d9e43d87dca9e\n",
       "6     b80344d063b5ccb3212f76538f3d9e43d87dca9e\n",
       "7     b80344d063b5ccb3212f76538f3d9e43d87dca9e\n",
       "8     b80344d063b5ccb3212f76538f3d9e43d87dca9e\n",
       "9     b80344d063b5ccb3212f76538f3d9e43d87dca9e\n",
       "10    b80344d063b5ccb3212f76538f3d9e43d87dca9e\n",
       "11    b80344d063b5ccb3212f76538f3d9e43d87dca9e\n",
       "12    b80344d063b5ccb3212f76538f3d9e43d87dca9e\n",
       "13    b80344d063b5ccb3212f76538f3d9e43d87dca9e\n",
       "14    b80344d063b5ccb3212f76538f3d9e43d87dca9e\n",
       "15    b80344d063b5ccb3212f76538f3d9e43d87dca9e\n",
       "16    b80344d063b5ccb3212f76538f3d9e43d87dca9e\n",
       "17    b80344d063b5ccb3212f76538f3d9e43d87dca9e\n",
       "18    b80344d063b5ccb3212f76538f3d9e43d87dca9e\n",
       "19    b80344d063b5ccb3212f76538f3d9e43d87dca9e\n",
       "Name: user_id, dtype: object"
      ]
     },
     "execution_count": 48,
     "metadata": {},
     "output_type": "execute_result"
    }
   ],
   "source": [
    "data['user_id'][:20]\n"
   ]
  },
  {
   "cell_type": "code",
   "execution_count": 41,
   "metadata": {},
   "outputs": [
    {
     "data": {
      "text/plain": [
       "user_id\n",
       "00000b722001882066dff9d2da8a775658053ea0     12\n",
       "00001638d6189236866af9bbf309ae6c2347ffdc     14\n",
       "0000175652312d12576d9e6b84f600caa24c4715     12\n",
       "00001cf0dce3fb22b0df0f3a1d9cd21e38385372     18\n",
       "0000267bde1b3a70ea75cf2b2d216cb828e3202b     25\n",
       "00003a4459f33b92906be11abe0e93efc423c0ff     16\n",
       "00004fb90a86beb8bed1e9e328f5d9b6ee7dc03e     47\n",
       "00005c6177188f12fb5e2e82cdbd93e8a3f35e64     16\n",
       "000060ca4e6bea0a5c9037fc1bbd7bbabb98c754     34\n",
       "00007ed2509128dcdd74ea3aac2363e24e9dc06b     60\n",
       "00007f902e31b0693a023e9c234461d4e6991eec     21\n",
       "00008c7cc5606ba35c2595b0b3bb1630d4685028     17\n",
       "00009d93dc719d1dbaf13507725a03b9fdeebebb     48\n",
       "0000ad91634a2124eb9a84486443ed9a87a6ea8b     13\n",
       "0000bb531aaa657c932988bc2f7fd7fc1b2050ec    148\n",
       "0000d3c803e068cf1da17724f1674897b2dd7130     73\n",
       "0000d9fcab0c32065aa62737de8c1b35f026b51c     22\n",
       "0000f88f8d76a238c251450913b0d070e4a77d19    138\n",
       "000138e252eea35fd73aaf66a9b34102b695a9c8     75\n",
       "000142b8bf82245279fe63c4a53c816ccc2efa8a     13\n",
       "Name: user_id, dtype: int64"
      ]
     },
     "execution_count": 41,
     "metadata": {},
     "output_type": "execute_result"
    }
   ],
   "source": [
    "grouped_data = data.groupby('user_id')['user_id'].count()\n",
    "grouped_data.head(20)"
   ]
  },
  {
   "cell_type": "code",
   "execution_count": 42,
   "metadata": {},
   "outputs": [
    {
     "name": "stdout",
     "output_type": "stream",
     "text": [
      "<class 'pandas.core.series.Series'>\n"
     ]
    }
   ],
   "source": [
    "print (type(grouped_data))"
   ]
  },
  {
   "cell_type": "code",
   "execution_count": 57,
   "metadata": {
    "scrolled": true
   },
   "outputs": [
    {
     "name": "stdout",
     "output_type": "stream",
     "text": [
      "Mean: 47.45681524313316\n",
      "Max: 4400\n",
      "Min: 10\n"
     ]
    }
   ],
   "source": [
    "print (\"Mean: {0}\\nMax: {1}\\nMin: {2}\".format(grouped_data.mean(), grouped_data.max(), grouped_data.min()))"
   ]
  },
  {
   "cell_type": "code",
   "execution_count": 79,
   "metadata": {},
   "outputs": [
    {
     "data": {
      "text/plain": [
       "14"
      ]
     },
     "execution_count": 79,
     "metadata": {},
     "output_type": "execute_result"
    }
   ],
   "source": [
    "grouped_data['00001638d6189236866af9bbf309ae6c2347ffdc']"
   ]
  },
  {
   "cell_type": "code",
   "execution_count": 80,
   "metadata": {},
   "outputs": [
    {
     "data": {
      "text/html": [
       "<div>\n",
       "<style>\n",
       "    .dataframe thead tr:only-child th {\n",
       "        text-align: right;\n",
       "    }\n",
       "\n",
       "    .dataframe thead th {\n",
       "        text-align: left;\n",
       "    }\n",
       "\n",
       "    .dataframe tbody tr th {\n",
       "        vertical-align: top;\n",
       "    }\n",
       "</style>\n",
       "<table border=\"1\" class=\"dataframe\">\n",
       "  <thead>\n",
       "    <tr style=\"text-align: right;\">\n",
       "      <th></th>\n",
       "      <th>user_id</th>\n",
       "      <th>song_id</th>\n",
       "      <th>num_plays</th>\n",
       "    </tr>\n",
       "  </thead>\n",
       "  <tbody>\n",
       "    <tr>\n",
       "      <th>33672912</th>\n",
       "      <td>00001638d6189236866af9bbf309ae6c2347ffdc</td>\n",
       "      <td>SOAORYL12A67AD8187</td>\n",
       "      <td>7</td>\n",
       "    </tr>\n",
       "    <tr>\n",
       "      <th>33672913</th>\n",
       "      <td>00001638d6189236866af9bbf309ae6c2347ffdc</td>\n",
       "      <td>SOBFEDK12A8C13BB25</td>\n",
       "      <td>1</td>\n",
       "    </tr>\n",
       "    <tr>\n",
       "      <th>33672914</th>\n",
       "      <td>00001638d6189236866af9bbf309ae6c2347ffdc</td>\n",
       "      <td>SOCIJBR12AB017BD92</td>\n",
       "      <td>1</td>\n",
       "    </tr>\n",
       "    <tr>\n",
       "      <th>33672915</th>\n",
       "      <td>00001638d6189236866af9bbf309ae6c2347ffdc</td>\n",
       "      <td>SOEKYTM12A8C13CBF4</td>\n",
       "      <td>1</td>\n",
       "    </tr>\n",
       "    <tr>\n",
       "      <th>33672916</th>\n",
       "      <td>00001638d6189236866af9bbf309ae6c2347ffdc</td>\n",
       "      <td>SOFFWTH12A6310D9E8</td>\n",
       "      <td>2</td>\n",
       "    </tr>\n",
       "    <tr>\n",
       "      <th>33672917</th>\n",
       "      <td>00001638d6189236866af9bbf309ae6c2347ffdc</td>\n",
       "      <td>SOFXSRW12A6D4F3B77</td>\n",
       "      <td>1</td>\n",
       "    </tr>\n",
       "    <tr>\n",
       "      <th>33672918</th>\n",
       "      <td>00001638d6189236866af9bbf309ae6c2347ffdc</td>\n",
       "      <td>SOLODPO12AB017F217</td>\n",
       "      <td>4</td>\n",
       "    </tr>\n",
       "    <tr>\n",
       "      <th>33672919</th>\n",
       "      <td>00001638d6189236866af9bbf309ae6c2347ffdc</td>\n",
       "      <td>SOLOYFG12A8C133391</td>\n",
       "      <td>1</td>\n",
       "    </tr>\n",
       "    <tr>\n",
       "      <th>33672920</th>\n",
       "      <td>00001638d6189236866af9bbf309ae6c2347ffdc</td>\n",
       "      <td>SONGKIR12A58A779D3</td>\n",
       "      <td>5</td>\n",
       "    </tr>\n",
       "    <tr>\n",
       "      <th>33672921</th>\n",
       "      <td>00001638d6189236866af9bbf309ae6c2347ffdc</td>\n",
       "      <td>SOOEPEG12A6D4FC7CA</td>\n",
       "      <td>1</td>\n",
       "    </tr>\n",
       "    <tr>\n",
       "      <th>33672922</th>\n",
       "      <td>00001638d6189236866af9bbf309ae6c2347ffdc</td>\n",
       "      <td>SOPFRAN12A8C13AA77</td>\n",
       "      <td>2</td>\n",
       "    </tr>\n",
       "    <tr>\n",
       "      <th>33672923</th>\n",
       "      <td>00001638d6189236866af9bbf309ae6c2347ffdc</td>\n",
       "      <td>SOUWYDL12A8C139BDD</td>\n",
       "      <td>1</td>\n",
       "    </tr>\n",
       "    <tr>\n",
       "      <th>33672924</th>\n",
       "      <td>00001638d6189236866af9bbf309ae6c2347ffdc</td>\n",
       "      <td>SOWMWVC12A67AD9795</td>\n",
       "      <td>5</td>\n",
       "    </tr>\n",
       "    <tr>\n",
       "      <th>33672925</th>\n",
       "      <td>00001638d6189236866af9bbf309ae6c2347ffdc</td>\n",
       "      <td>SOWOTHK12A67AD818B</td>\n",
       "      <td>24</td>\n",
       "    </tr>\n",
       "  </tbody>\n",
       "</table>\n",
       "</div>"
      ],
      "text/plain": [
       "                                           user_id             song_id  \\\n",
       "33672912  00001638d6189236866af9bbf309ae6c2347ffdc  SOAORYL12A67AD8187   \n",
       "33672913  00001638d6189236866af9bbf309ae6c2347ffdc  SOBFEDK12A8C13BB25   \n",
       "33672914  00001638d6189236866af9bbf309ae6c2347ffdc  SOCIJBR12AB017BD92   \n",
       "33672915  00001638d6189236866af9bbf309ae6c2347ffdc  SOEKYTM12A8C13CBF4   \n",
       "33672916  00001638d6189236866af9bbf309ae6c2347ffdc  SOFFWTH12A6310D9E8   \n",
       "33672917  00001638d6189236866af9bbf309ae6c2347ffdc  SOFXSRW12A6D4F3B77   \n",
       "33672918  00001638d6189236866af9bbf309ae6c2347ffdc  SOLODPO12AB017F217   \n",
       "33672919  00001638d6189236866af9bbf309ae6c2347ffdc  SOLOYFG12A8C133391   \n",
       "33672920  00001638d6189236866af9bbf309ae6c2347ffdc  SONGKIR12A58A779D3   \n",
       "33672921  00001638d6189236866af9bbf309ae6c2347ffdc  SOOEPEG12A6D4FC7CA   \n",
       "33672922  00001638d6189236866af9bbf309ae6c2347ffdc  SOPFRAN12A8C13AA77   \n",
       "33672923  00001638d6189236866af9bbf309ae6c2347ffdc  SOUWYDL12A8C139BDD   \n",
       "33672924  00001638d6189236866af9bbf309ae6c2347ffdc  SOWMWVC12A67AD9795   \n",
       "33672925  00001638d6189236866af9bbf309ae6c2347ffdc  SOWOTHK12A67AD818B   \n",
       "\n",
       "          num_plays  \n",
       "33672912          7  \n",
       "33672913          1  \n",
       "33672914          1  \n",
       "33672915          1  \n",
       "33672916          2  \n",
       "33672917          1  \n",
       "33672918          4  \n",
       "33672919          1  \n",
       "33672920          5  \n",
       "33672921          1  \n",
       "33672922          2  \n",
       "33672923          1  \n",
       "33672924          5  \n",
       "33672925         24  "
      ]
     },
     "execution_count": 80,
     "metadata": {},
     "output_type": "execute_result"
    }
   ],
   "source": [
    "data[data['user_id'] == '00001638d6189236866af9bbf309ae6c2347ffdc']"
   ]
  },
  {
   "cell_type": "code",
   "execution_count": null,
   "metadata": {
    "collapsed": true
   },
   "outputs": [],
   "source": [
    "# to create the training and test sets, hold out is enough, as we want to separate a percentage of the songs per user, \n",
    "# so all the users are in both sets"
   ]
  },
  {
   "cell_type": "code",
   "execution_count": 90,
   "metadata": {},
   "outputs": [
    {
     "data": {
      "text/plain": [
       "48373586"
      ]
     },
     "execution_count": 90,
     "metadata": {},
     "output_type": "execute_result"
    }
   ],
   "source": [
    "len(data)"
   ]
  },
  {
   "cell_type": "code",
   "execution_count": 96,
   "metadata": {},
   "outputs": [
    {
     "name": "stdout",
     "output_type": "stream",
     "text": [
      "Index: 0\n",
      "Data: user_id      b80344d063b5ccb3212f76538f3d9e43d87dca9e\n",
      "song_id                            SOAKIMP12A8C130995\n",
      "num_plays                                           1\n",
      "Name: 0, dtype: object\n",
      "Index: 1\n",
      "Data: user_id      b80344d063b5ccb3212f76538f3d9e43d87dca9e\n",
      "song_id                            SOAPDEY12A81C210A9\n",
      "num_plays                                           1\n",
      "Name: 1, dtype: object\n",
      "Index: 2\n",
      "Data: user_id      b80344d063b5ccb3212f76538f3d9e43d87dca9e\n",
      "song_id                            SOBBMDR12A8C13253B\n",
      "num_plays                                           2\n",
      "Name: 2, dtype: object\n",
      "Index: 3\n",
      "Data: user_id      b80344d063b5ccb3212f76538f3d9e43d87dca9e\n",
      "song_id                            SOBFNSP12AF72A0E22\n",
      "num_plays                                           1\n",
      "Name: 3, dtype: object\n",
      "Index: 4\n",
      "Data: user_id      b80344d063b5ccb3212f76538f3d9e43d87dca9e\n",
      "song_id                            SOBFOVM12A58A7D494\n",
      "num_plays                                           1\n",
      "Name: 4, dtype: object\n"
     ]
    }
   ],
   "source": [
    "for index, row in data[:5].iterrows():\n",
    "    print (\"Index: {0}\\nData: {1}\".format(index, row))"
   ]
  },
  {
   "cell_type": "code",
   "execution_count": 99,
   "metadata": {},
   "outputs": [
    {
     "name": "stdout",
     "output_type": "stream",
     "text": [
      "104\n",
      "104\n",
      "104\n",
      "104\n",
      "104\n"
     ]
    }
   ],
   "source": [
    "for index, row in data[:5].iterrows():\n",
    "    print (grouped_data[row['user_id']])"
   ]
  },
  {
   "cell_type": "code",
   "execution_count": 100,
   "metadata": {},
   "outputs": [
    {
     "ename": "KeyError",
     "evalue": "1",
     "output_type": "error",
     "traceback": [
      "\u001b[1;31m---------------------------------------------------------------------------\u001b[0m",
      "\u001b[1;31mKeyError\u001b[0m                                  Traceback (most recent call last)",
      "\u001b[1;32m<ipython-input-100-72a8e7cf4055>\u001b[0m in \u001b[0;36m<module>\u001b[1;34m()\u001b[0m\n\u001b[0;32m      1\u001b[0m \u001b[0mmidict\u001b[0m \u001b[1;33m=\u001b[0m \u001b[1;33m{\u001b[0m\u001b[1;33m}\u001b[0m\u001b[1;33m\u001b[0m\u001b[0m\n\u001b[1;32m----> 2\u001b[1;33m \u001b[0mlen\u001b[0m\u001b[1;33m(\u001b[0m\u001b[0mmidict\u001b[0m\u001b[1;33m[\u001b[0m\u001b[1;36m1\u001b[0m\u001b[1;33m]\u001b[0m\u001b[1;33m)\u001b[0m\u001b[1;33m\u001b[0m\u001b[0m\n\u001b[0m",
      "\u001b[1;31mKeyError\u001b[0m: 1"
     ]
    }
   ],
   "source": [
    "midict = {}\n",
    "len(midict[1])"
   ]
  },
  {
   "cell_type": "code",
   "execution_count": null,
   "metadata": {
    "collapsed": true
   },
   "outputs": [],
   "source": [
    "test_pct = 0.2\n",
    "train_dict = {}\n",
    "test_dict = {}\n",
    "# Read user data line by line\n",
    "for index, row in data[:100].iterrows():\n",
    "# read his number of songs\n",
    "    user = row['user_id']\n",
    "    num_songs = grouped_data[user]\n",
    "# Check if user exists in test dictionary\n",
    "    if user not in test_dict:\n",
    "        # If it doesn't, add it to both dictionaries\n",
    "        test_dict[user] = \n",
    "    else:\n",
    "    my_dict[key] = 1\n",
    "# Check if it has the test elements complete\n",
    "    \n",
    "# Si no lo tiene, mediante un aleatorio (1,0 T,F, Sí,No) decidimos si lo mandamos a train o test\n"
   ]
  },
  {
   "cell_type": "code",
   "execution_count": null,
   "metadata": {
    "collapsed": true
   },
   "outputs": [],
   "source": []
  },
  {
   "cell_type": "code",
   "execution_count": 15,
   "metadata": {
    "scrolled": true
   },
   "outputs": [
    {
     "name": "stdout",
     "output_type": "stream",
     "text": [
      "There are 1019318 users and 384546 songs\n"
     ]
    }
   ],
   "source": [
    "an_users = data.user_id.unique().shape[0]\n",
    "n_songs = data.song_id.unique().shape[0]\n",
    "print(\"There are %s users and %s songs\" %(n_users, n_songs))"
   ]
  },
  {
   "cell_type": "code",
   "execution_count": 5,
   "metadata": {},
   "outputs": [
    {
     "data": {
      "text/html": [
       "<div>\n",
       "<style>\n",
       "    .dataframe thead tr:only-child th {\n",
       "        text-align: right;\n",
       "    }\n",
       "\n",
       "    .dataframe thead th {\n",
       "        text-align: left;\n",
       "    }\n",
       "\n",
       "    .dataframe tbody tr th {\n",
       "        vertical-align: top;\n",
       "    }\n",
       "</style>\n",
       "<table border=\"1\" class=\"dataframe\">\n",
       "  <thead>\n",
       "    <tr style=\"text-align: right;\">\n",
       "      <th></th>\n",
       "      <th>num_plays</th>\n",
       "    </tr>\n",
       "  </thead>\n",
       "  <tbody>\n",
       "    <tr>\n",
       "      <th>count</th>\n",
       "      <td>48373586.000</td>\n",
       "    </tr>\n",
       "    <tr>\n",
       "      <th>mean</th>\n",
       "      <td>2.867</td>\n",
       "    </tr>\n",
       "    <tr>\n",
       "      <th>std</th>\n",
       "      <td>6.438</td>\n",
       "    </tr>\n",
       "    <tr>\n",
       "      <th>min</th>\n",
       "      <td>1.000</td>\n",
       "    </tr>\n",
       "    <tr>\n",
       "      <th>25%</th>\n",
       "      <td>1.000</td>\n",
       "    </tr>\n",
       "    <tr>\n",
       "      <th>50%</th>\n",
       "      <td>1.000</td>\n",
       "    </tr>\n",
       "    <tr>\n",
       "      <th>75%</th>\n",
       "      <td>3.000</td>\n",
       "    </tr>\n",
       "    <tr>\n",
       "      <th>max</th>\n",
       "      <td>9667.000</td>\n",
       "    </tr>\n",
       "  </tbody>\n",
       "</table>\n",
       "</div>"
      ],
      "text/plain": [
       "         num_plays\n",
       "count 48373586.000\n",
       "mean         2.867\n",
       "std          6.438\n",
       "min          1.000\n",
       "25%          1.000\n",
       "50%          1.000\n",
       "75%          3.000\n",
       "max       9667.000"
      ]
     },
     "execution_count": 5,
     "metadata": {},
     "output_type": "execute_result"
    }
   ],
   "source": [
    "data.describe()"
   ]
  },
  {
   "cell_type": "code",
   "execution_count": null,
   "metadata": {
    "collapsed": true
   },
   "outputs": [],
   "source": [
    "## TODO Load song information and remove all lines from data without a match"
   ]
  }
 ],
 "metadata": {
  "kernelspec": {
   "display_name": "Python 3",
   "language": "python",
   "name": "python3"
  },
  "language_info": {
   "codemirror_mode": {
    "name": "ipython",
    "version": 3
   },
   "file_extension": ".py",
   "mimetype": "text/x-python",
   "name": "python",
   "nbconvert_exporter": "python",
   "pygments_lexer": "ipython3",
   "version": "3.6.3"
  }
 },
 "nbformat": 4,
 "nbformat_minor": 2
}
