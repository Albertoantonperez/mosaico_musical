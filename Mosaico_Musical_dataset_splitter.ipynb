{
 "cells": [
  {
   "cell_type": "markdown",
   "metadata": {},
   "source": [
    "## Data set splitter\n",
    "\n",
    "The purpose of this program is to separate the Million Song Dataset into the train and test sets. The set has to be ordered by user_id (sort  train_triplets.txt > train_triplets_sorted.txt) in order to be able to select a certain number of users for testing. After the model is comlete, it can be used with the whole data file. "
   ]
  },
  {
   "cell_type": "markdown",
   "metadata": {},
   "source": [
    "In order to prepare the model, we are going to get a small portion of the data with a limited number of users (passed by parameter). The percentage assigned to each set is can also be determined by parameters.\n",
    "\n",
    "You connot read a certain number of lines, because you can cut a user an leave it with insufficient data, so we have to select a number of complete users."
   ]
  },
  {
   "cell_type": "code",
   "execution_count": 40,
   "metadata": {
    "collapsed": true
   },
   "outputs": [],
   "source": [
    "import os\n",
    "import io\n",
    "import random\n",
    "import pickle"
   ]
  },
  {
   "cell_type": "code",
   "execution_count": 41,
   "metadata": {
    "collapsed": true
   },
   "outputs": [],
   "source": [
    "# Initializing random seed\n",
    "random.seed(1234)"
   ]
  },
  {
   "cell_type": "code",
   "execution_count": 44,
   "metadata": {
    "collapsed": true
   },
   "outputs": [],
   "source": [
    "# Open the output files\n",
    "train_file_path = os.path.join(folder[0], \"data/train_listenings.pkl\")\n",
    "test_file_path = os.path.join(folder[0], \"data/test_listenings.pkl\")\n",
    "\n",
    "# Delete the files if they already exist\n",
    "try:\n",
    "    os.remove(train_file_path)\n",
    "    os.remove(test_file_path)\n",
    "except OSError:\n",
    "    pass\n",
    "\n",
    "# Open them. We'll be writting as we read\n",
    "test_file = open(test_file_path, 'ab')\n",
    "train_file = open(train_file_path, 'ab')"
   ]
  },
  {
   "cell_type": "code",
   "execution_count": 45,
   "metadata": {
    "collapsed": true
   },
   "outputs": [],
   "source": [
    "# This function returns random train and test sets for a given user\n",
    "def list_splitting(user_list, test_pct):\n",
    "    test_elements = int(round(test_pct * len(user_list)))\n",
    "    # Randomly shuffling a copy of the original list\n",
    "    shuffled = user_list\n",
    "    random.shuffle(shuffled)\n",
    "    return shuffled[test_elements:], shuffled[:test_elements]"
   ]
  },
  {
   "cell_type": "code",
   "execution_count": 46,
   "metadata": {},
   "outputs": [],
   "source": [
    "# Function that writes to the train and test files\n",
    "def write_sets(train, test):\n",
    "    pickle.dump(train, train_file)\n",
    "    pickle.dump(test, test_file)"
   ]
  },
  {
   "cell_type": "code",
   "execution_count": 51,
   "metadata": {},
   "outputs": [],
   "source": [
    "# Initializing variables\n",
    "# Test_pct will be read by param\n",
    "test_pct = 0.2\n",
    "# num_users will be read by param\n",
    "max_users = 1\n",
    "last_user = \"\"\n",
    "user_count = 0\n",
    "\n",
    "# Read user data line by line\n",
    "with io.open(items_id_file, 'r') as f:\n",
    "    for line in f.readlines():\n",
    "        user_data = []\n",
    "        # Read a user and then distribute it between sets\n",
    "        record = line.split()\n",
    "        user = record[0]\n",
    "        # The first time we do nothing\n",
    "        if last_user == \"\":\n",
    "            last_user = user\n",
    "        if user != last_user:\n",
    "            # Change of user. Save it in train and test\n",
    "            write_sets(list_splitting(user_data, test_pct))\n",
    "            last_user = user\n",
    "            user_count += 1\n",
    "        else:\n",
    "            # Add line to user_data\n",
    "            user_data.append(record)\n",
    "        if user_count == max_users:\n",
    "            break"
   ]
  },
  {
   "cell_type": "code",
   "execution_count": 9,
   "metadata": {},
   "outputs": [
    {
     "name": "stdout",
     "output_type": "stream",
     "text": [
      "['C:\\\\Users\\\\laanton\\\\Documents\\\\Master_en_Data_Science\\\\tfm']\n"
     ]
    }
   ],
   "source": [
    "# Test with one user\n",
    "folder=!echo %cd%\n",
    "print(folder)"
   ]
  },
  {
   "cell_type": "code",
   "execution_count": 10,
   "metadata": {},
   "outputs": [],
   "source": [
    "data_root = os.path.join(folder[0], \"data\")\n",
    "listenings_file = os.path.join(data_root, \"one_user.txt\")"
   ]
  },
  {
   "cell_type": "code",
   "execution_count": 19,
   "metadata": {
    "collapsed": true
   },
   "outputs": [],
   "source": [
    "test_pct = 0.2\n",
    "train_list = []\n",
    "test_list = []"
   ]
  },
  {
   "cell_type": "code",
   "execution_count": 15,
   "metadata": {},
   "outputs": [],
   "source": [
    "# Read the listenings file\n",
    "user_listenings = []\n",
    "with io.open(listenings_file, 'r') as f:\n",
    "    for line in f.readlines():\n",
    "        record = line.split()\n",
    "        user_listenings.append(record)"
   ]
  },
  {
   "cell_type": "code",
   "execution_count": 16,
   "metadata": {
    "collapsed": true
   },
   "outputs": [],
   "source": [
    "# Get the output paths\n",
    "train_file_path = os.path.join(folder[0], \"data/train_listenings.txt\")\n",
    "test_file_path = os.path.join(folder[0], \"data/test_listenings.txt\")"
   ]
  },
  {
   "cell_type": "code",
   "execution_count": 17,
   "metadata": {},
   "outputs": [
    {
     "name": "stdout",
     "output_type": "stream",
     "text": [
      "[['00000b722001882066dff9d2da8a775658053ea0', 'SOBQJJX12A6D4F7F01', '2'], ['00000b722001882066dff9d2da8a775658053ea0', 'SOBSSGK12A6D4F9EF1', '1'], ['00000b722001882066dff9d2da8a775658053ea0', 'SOCTXQW12A6D4F70AD', '1'], ['00000b722001882066dff9d2da8a775658053ea0', 'SOCZQCY12AC468E40F', '1'], ['00000b722001882066dff9d2da8a775658053ea0', 'SOFLJQZ12A6D4FADA6', '1'], ['00000b722001882066dff9d2da8a775658053ea0', 'SOJOJUN12A8AE47E1D', '1'], ['00000b722001882066dff9d2da8a775658053ea0', 'SOKBXYC12A6D4F59D6', '1'], ['00000b722001882066dff9d2da8a775658053ea0', 'SOMRTLE12A58A78D26', '1'], ['00000b722001882066dff9d2da8a775658053ea0', 'SORDKNX12A8C13A45F', '1'], ['00000b722001882066dff9d2da8a775658053ea0', 'SOTCWRK12AB017E47D', '1'], ['00000b722001882066dff9d2da8a775658053ea0', 'SOTDOKZ12A8C137FCD', '1'], ['00000b722001882066dff9d2da8a775658053ea0', 'SOUBEXV12AB01804A4', '1']]\n"
     ]
    }
   ],
   "source": [
    "# Read the user_listenings list and distribute the lines\n",
    "print (user_listenings)"
   ]
  },
  {
   "cell_type": "code",
   "execution_count": 35,
   "metadata": {},
   "outputs": [],
   "source": [
    "def list_splitting(user_list, test_pct):\n",
    "    test_elements = int(round(test_pct * len(user_list)))\n",
    "    # Randomly shuffling a copy of the original list\n",
    "    shuffled = user_list\n",
    "    random.shuffle(shuffled)\n",
    "    return shuffled[test_elements:], shuffled[:test_elements]"
   ]
  },
  {
   "cell_type": "code",
   "execution_count": 38,
   "metadata": {},
   "outputs": [
    {
     "name": "stdout",
     "output_type": "stream",
     "text": [
      "[['00000b722001882066dff9d2da8a775658053ea0', 'SOFLJQZ12A6D4FADA6', '1'], ['00000b722001882066dff9d2da8a775658053ea0', 'SOJOJUN12A8AE47E1D', '1'], ['00000b722001882066dff9d2da8a775658053ea0', 'SOTDOKZ12A8C137FCD', '1'], ['00000b722001882066dff9d2da8a775658053ea0', 'SOCZQCY12AC468E40F', '1'], ['00000b722001882066dff9d2da8a775658053ea0', 'SOMRTLE12A58A78D26', '1'], ['00000b722001882066dff9d2da8a775658053ea0', 'SORDKNX12A8C13A45F', '1']]\n",
      "---------------------------------\n",
      "[['00000b722001882066dff9d2da8a775658053ea0', 'SOBSSGK12A6D4F9EF1', '1'], ['00000b722001882066dff9d2da8a775658053ea0', 'SOKBXYC12A6D4F59D6', '1'], ['00000b722001882066dff9d2da8a775658053ea0', 'SOBQJJX12A6D4F7F01', '2'], ['00000b722001882066dff9d2da8a775658053ea0', 'SOCTXQW12A6D4F70AD', '1'], ['00000b722001882066dff9d2da8a775658053ea0', 'SOTCWRK12AB017E47D', '1'], ['00000b722001882066dff9d2da8a775658053ea0', 'SOUBEXV12AB01804A4', '1']]\n"
     ]
    }
   ],
   "source": [
    "test_pct = 0.5\n",
    "train_list, test_list = list_splitting(user_listenings, test_pct)\n",
    "print (test_list)\n",
    "print (\"---------------------------------\")\n",
    "print (train_list)"
   ]
  },
  {
   "cell_type": "code",
   "execution_count": 39,
   "metadata": {
    "collapsed": true
   },
   "outputs": [],
   "source": [
    "with open(train_file_path, 'ab') as trf:\n",
    "    pickle.dump(train_list, trf)\n",
    "\n",
    "with open(test_file_path, 'ab') as tef:\n",
    "    pickle.dump(test_list, tef)"
   ]
  },
  {
   "cell_type": "code",
   "execution_count": null,
   "metadata": {
    "collapsed": true
   },
   "outputs": [],
   "source": []
  },
  {
   "cell_type": "code",
   "execution_count": null,
   "metadata": {
    "collapsed": true
   },
   "outputs": [],
   "source": []
  },
  {
   "cell_type": "code",
   "execution_count": null,
   "metadata": {
    "collapsed": true
   },
   "outputs": [],
   "source": [
    "# Create a dictionary for movie titles and ids\n",
    "item_dict = {}\n",
    "# En Windows no se puede abrir el fichero como rb(inario)\n",
    "with io.open(items_id_file, 'r') as f:\n",
    "    for line in f.readlines():\n",
    "        record = line.split('|')\n",
    "        item_dict[int(record[0])] = str(record[1])\n",
    "        \n",
    "# Test_pct will be read by param\n",
    "test_pct = 0.2\n",
    "# num_users will be read by param\n",
    "num_users = 10000\n",
    "train_dict = {}\n",
    "test_dict = {}\n",
    "# Read user data line by line\n",
    "with io.open(items_id_file, 'r') as f:\n",
    "    for line in f.readlines():\n",
    "        record = line.split()\n",
    "# read his number of songs\n",
    "    user = row['user_id']\n",
    "    num_songs = grouped_data[user]\n",
    "# Check if user exists in test dictionary\n",
    "    if user not in test_dict:\n",
    "        # If it doesn't, add it to both dictionaries\n",
    "        test_dict[user] = \n",
    "    else:\n",
    "    my_dict[key] = 1"
   ]
  }
 ],
 "metadata": {
  "kernelspec": {
   "display_name": "Python 3",
   "language": "python",
   "name": "python3"
  },
  "language_info": {
   "codemirror_mode": {
    "name": "ipython",
    "version": 3
   },
   "file_extension": ".py",
   "mimetype": "text/x-python",
   "name": "python",
   "nbconvert_exporter": "python",
   "pygments_lexer": "ipython3",
   "version": "3.6.3"
  }
 },
 "nbformat": 4,
 "nbformat_minor": 2
}
